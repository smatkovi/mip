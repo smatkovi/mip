{
 "cells": [
  {
   "cell_type": "markdown",
   "id": "delayed-establishment",
   "metadata": {
    "deletable": false,
    "editable": false,
    "nbgrader": {
     "cell_type": "markdown",
     "checksum": "58665d73264395db87baff12cf191257",
     "grade": false,
     "grade_id": "cell-c90db2e3020a0df0",
     "locked": true,
     "schema_version": 3,
     "solution": false,
     "task": false
    }
   },
   "source": [
    "Dry run test assignment\n",
    "-----------------------------------\n",
    "\n",
    "You are looking at a Jupyter notebook. These notebooks will be the main form of homework\n",
    "during the semester. The idea is to fill them out and also have fun with them, i.e., play\n",
    "around a little bit.  For those interested/confused, there is a [tutorial] here and the complete [documentation].\n",
    "\n",
    "Notebooks work a bit like these TI calculators (or Mathematica, if you worked with that).\n",
    "You type in your code, press `Shift+Enter` or the `▸ Run` button at the top to execute it. \n",
    "Your result should then pop up.\n",
    "\n",
    "Let's try this out: put the cursor in the next cell and execute it:\n",
    "\n",
    "[tutorial]: https://linuxhint.com/jupyter_notebook_introduction_tutorial/\n",
    "[documentation]: https://jupyter-notebook.readthedocs.io/en/stable/notebook.html"
   ]
  },
  {
   "cell_type": "code",
   "execution_count": 1,
   "id": "precise-grammar",
   "metadata": {},
   "outputs": [
    {
     "data": {
      "text/plain": [
       "2"
      ]
     },
     "execution_count": 1,
     "metadata": {},
     "output_type": "execute_result"
    }
   ],
   "source": [
    "1 + 1"
   ]
  },
  {
   "cell_type": "markdown",
   "id": "contemporary-component",
   "metadata": {
    "deletable": false,
    "editable": false,
    "nbgrader": {
     "cell_type": "markdown",
     "checksum": "3709e38240f02597befa291a517769fb",
     "grade": false,
     "grade_id": "cell-16e774f48d10e880",
     "locked": true,
     "points": 1,
     "schema_version": 3,
     "solution": false,
     "task": true
    }
   },
   "source": [
    "Onwards! The assigments will take three main forms.  \n",
    "\n",
    "The **first form** is a coding task, where you are supposed \n",
    "to solve a certain task in the cells that follow in whatever\n",
    "way you see fit. Let's try this out:\n",
    "\n",
    "Use the following cells to do a couple more simple \n",
    "calculations (you can use `+`, `-`, `*`, `/`, etc.) and\n",
    "execute them.  Add a few more cells by using the `+` button in the toolbar above or by using `Insert > Insert Cell below`"
   ]
  },
  {
   "cell_type": "code",
   "execution_count": 2,
   "id": "6cef71f0-4497-4631-89e2-7c18ea859c19",
   "metadata": {},
   "outputs": [
    {
     "data": {
      "text/plain": [
       "81.048167"
      ]
     },
     "execution_count": 2,
     "metadata": {},
     "output_type": "execute_result"
    }
   ],
   "source": [
    "13.7603*5.89"
   ]
  },
  {
   "cell_type": "code",
   "execution_count": 3,
   "id": "victorian-oriental",
   "metadata": {},
   "outputs": [
    {
     "data": {
      "text/plain": [
       "3"
      ]
     },
     "execution_count": 3,
     "metadata": {},
     "output_type": "execute_result"
    }
   ],
   "source": [
    "1+2"
   ]
  },
  {
   "cell_type": "markdown",
   "id": "industrial-infection",
   "metadata": {
    "deletable": false,
    "editable": false,
    "nbgrader": {
     "cell_type": "markdown",
     "checksum": "7844d1378ecf29e52008dd770b7158f9",
     "grade": false,
     "grade_id": "cell-75d8a1b3f8dc64ff",
     "locked": true,
     "schema_version": 3,
     "solution": false,
     "task": false
    }
   },
   "source": [
    "The **second form** is a bit like a \"Lückentext\" (cloze):\n",
    "you get a cell that is already filled, but then there is some bits missing and the marker `raise NotImplementedError()`   You are supposed to **replace** that marker with your code like in the assignment.\n",
    "\n",
    "Again let's try this:  delete the `raise ...` and instead put the statement `x = 1` below:"
   ]
  },
  {
   "cell_type": "code",
   "execution_count": 8,
   "id": "monetary-minister",
   "metadata": {
    "deletable": false,
    "nbgrader": {
     "cell_type": "code",
     "checksum": "3c03299ce88461aa018d3982ece6d333",
     "grade": false,
     "grade_id": "cell-dcf6c5ce2764d78b",
     "locked": false,
     "schema_version": 3,
     "solution": true,
     "task": false
    }
   },
   "outputs": [
    {
     "data": {
      "text/plain": [
       "6"
      ]
     },
     "execution_count": 8,
     "metadata": {},
     "output_type": "execute_result"
    }
   ],
   "source": [
    "# YOUR CODE HERE\n",
    "x=1\n",
    "\n",
    "x + 5"
   ]
  },
  {
   "cell_type": "markdown",
   "id": "anonymous-cowboy",
   "metadata": {
    "deletable": false,
    "editable": false,
    "nbgrader": {
     "cell_type": "markdown",
     "checksum": "b2ebe685603529852a07c9b33302f38d",
     "grade": false,
     "grade_id": "cell-21976d01f6c41b34",
     "locked": true,
     "schema_version": 3,
     "solution": false,
     "task": false
    }
   },
   "source": [
    "Especially for the second form, we will often provide you with \"test cells\", which check whether your solution is correct.\n",
    "\n",
    "If you filled the above cell correctly, then executing the following cell should work.  Otherwise you will get an error:\n",
    "see what happens if you change your above answer to `x = 2`, execute both cells again, then change it back."
   ]
  },
  {
   "cell_type": "code",
   "execution_count": 9,
   "id": "disturbed-radiation",
   "metadata": {
    "deletable": false,
    "editable": false,
    "nbgrader": {
     "cell_type": "code",
     "checksum": "8c4917a80b23ad6e43b0af03754959a8",
     "grade": true,
     "grade_id": "cell-40868e5f1db1ff21",
     "locked": true,
     "points": 1,
     "schema_version": 3,
     "solution": false,
     "task": false
    }
   },
   "outputs": [],
   "source": [
    "assert x == 1"
   ]
  },
  {
   "cell_type": "code",
   "execution_count": null,
   "id": "noted-webmaster",
   "metadata": {},
   "outputs": [],
   "source": []
  },
  {
   "cell_type": "markdown",
   "id": "tired-office",
   "metadata": {},
   "source": [
    "The **third form** is just text answers, where you supposed to\n",
    "give details to the method, discuss results, etc.\n",
    "\n",
    "They live in special cells which contain text rather than code.  You recognize text cells by the fact that they don't have the `In [ ]:` at the beginning and the test `YOUR ANSWER HERE`.\n",
    "\n",
    "Let's try this form as well: **double click** the text `YOUR ANSWER HERE` and write some more text in it.  You could, e.g., describe whether the instructions here were easy to follow or not."
   ]
  },
  {
   "cell_type": "markdown",
   "id": "blocked-ghana",
   "metadata": {
    "deletable": false,
    "nbgrader": {
     "cell_type": "markdown",
     "checksum": "e71e618d16ae7abe7b4f9a729a289e47",
     "grade": true,
     "grade_id": "cell-77cd5c633643a69e",
     "locked": false,
     "points": 1,
     "schema_version": 3,
     "solution": true,
     "task": false
    }
   },
   "source": [
    "so far, they're clear"
   ]
  },
  {
   "cell_type": "code",
   "execution_count": null,
   "id": "assumed-discount",
   "metadata": {},
   "outputs": [],
   "source": []
  },
  {
   "cell_type": "markdown",
   "id": "polyphonic-corrections",
   "metadata": {
    "deletable": false,
    "editable": false,
    "nbgrader": {
     "cell_type": "markdown",
     "checksum": "d8ca2a5ecf7e19fe52d503d2a78fd232",
     "grade": false,
     "grade_id": "cell-c4b842a22ce4bd0c",
     "locked": true,
     "schema_version": 3,
     "solution": false,
     "task": false
    }
   },
   "source": [
    "We're done.\n",
    "\n",
    "Please hand in your notebook.\n",
    "\n",
    " 1. Save this file `Ctrl+S` or `File > Save and checkpoint`\n",
    " 2. Go to the main page of Jupyter\n",
    " 3. Go to the assignments tab\n",
    " 4. Recommended: Click the \"Validate\" button on the assigment \n",
    " 5. Hand it in. All done!"
   ]
  },
  {
   "cell_type": "code",
   "execution_count": null,
   "id": "racial-monitor",
   "metadata": {},
   "outputs": [],
   "source": []
  }
 ],
 "metadata": {
  "kernelspec": {
   "display_name": "Python 3 (ipykernel)",
   "language": "python",
   "name": "python3"
  },
  "language_info": {
   "codemirror_mode": {
    "name": "ipython",
    "version": 3
   },
   "file_extension": ".py",
   "mimetype": "text/x-python",
   "name": "python",
   "nbconvert_exporter": "python",
   "pygments_lexer": "ipython3",
   "version": "3.10.10"
  }
 },
 "nbformat": 4,
 "nbformat_minor": 5
}
