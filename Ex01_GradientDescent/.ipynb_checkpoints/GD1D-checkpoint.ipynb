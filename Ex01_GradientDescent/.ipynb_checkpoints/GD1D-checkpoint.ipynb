{
 "cells": [
  {
   "cell_type": "code",
   "execution_count": null,
   "id": "geological-boards",
   "metadata": {
    "deletable": false,
    "editable": false,
    "nbgrader": {
     "cell_type": "code",
     "checksum": "247ebdc79a8736092a43c0a9347a4897",
     "grade": false,
     "grade_id": "cell-415e9f2343906651",
     "locked": true,
     "schema_version": 3,
     "solution": false,
     "task": false
    }
   },
   "outputs": [],
   "source": [
    "# <-- This marks a comment until the end of the line\n",
    "import math"
   ]
  },
  {
   "cell_type": "markdown",
   "id": "opponent-leeds",
   "metadata": {
    "deletable": false,
    "editable": false,
    "nbgrader": {
     "cell_type": "markdown",
     "checksum": "da7c21e31bd10afd895d14a40ee34863",
     "grade": false,
     "grade_id": "cell-78903cf7cbd716cb",
     "locked": true,
     "schema_version": 3,
     "solution": false,
     "task": false
    }
   },
   "source": [
    "Gradient Descent in 1D\n",
    "---------------------------------\n",
    "Please first watch the videos for Python and Gradient Descent.\n",
    "\n",
    "We are going to perform Gradient Descent (GD) for the simple function:\n",
    "$$\n",
    "    f(x) = x^4 - 2 x^2\n",
    "$$\n",
    "\n",
    "Complete the function below and try a few values:"
   ]
  },
  {
   "cell_type": "code",
   "execution_count": null,
   "id": "sapphire-clothing",
   "metadata": {
    "deletable": false,
    "nbgrader": {
     "cell_type": "code",
     "checksum": "270851ecb6279aea94d78f1936983680",
     "grade": false,
     "grade_id": "cell-b201df9927df4ef7",
     "locked": false,
     "schema_version": 3,
     "solution": true,
     "task": false
    }
   },
   "outputs": [],
   "source": [
    "def f(x):\n",
    "    # YOUR CODE HERE\n",
    "    raise NotImplementedError()"
   ]
  },
  {
   "cell_type": "code",
   "execution_count": null,
   "id": "naval-radiation",
   "metadata": {},
   "outputs": [],
   "source": [
    "f(0)"
   ]
  },
  {
   "cell_type": "code",
   "execution_count": null,
   "id": "outside-conversion",
   "metadata": {},
   "outputs": [],
   "source": []
  },
  {
   "cell_type": "code",
   "execution_count": null,
   "id": "welsh-niger",
   "metadata": {},
   "outputs": [],
   "source": []
  },
  {
   "cell_type": "code",
   "execution_count": null,
   "id": "organizational-evolution",
   "metadata": {},
   "outputs": [],
   "source": []
  },
  {
   "cell_type": "code",
   "execution_count": null,
   "id": "copyrighted-basics",
   "metadata": {
    "deletable": false,
    "editable": false,
    "nbgrader": {
     "cell_type": "code",
     "checksum": "d2d38becb741e6f0543d59f58b75c8d4",
     "grade": true,
     "grade_id": "cell-296fee55e3fa2506",
     "locked": true,
     "points": 1,
     "schema_version": 3,
     "solution": false,
     "task": false
    }
   },
   "outputs": [],
   "source": [
    "assert f(0) == 0\n",
    "assert f(1) == -1\n",
    "assert f(-1) == -1\n"
   ]
  },
  {
   "cell_type": "markdown",
   "id": "military-sleeping",
   "metadata": {},
   "source": [
    "For Gradient Descent, we need the derivative.\n",
    "\n",
    "Write a function names `dfdx`, which takes a parameter `x` and\n",
    "returns $df/dx$ at that position:"
   ]
  },
  {
   "cell_type": "code",
   "execution_count": null,
   "id": "temporal-trick",
   "metadata": {
    "deletable": false,
    "nbgrader": {
     "cell_type": "code",
     "checksum": "b92013898fc3c0d3aba3c7837d9711fb",
     "grade": false,
     "grade_id": "cell-ea6ad626eb794300",
     "locked": false,
     "schema_version": 3,
     "solution": true,
     "task": false
    }
   },
   "outputs": [],
   "source": [
    "# YOUR CODE HERE\n",
    "raise NotImplementedError()"
   ]
  },
  {
   "cell_type": "code",
   "execution_count": null,
   "id": "thousand-seven",
   "metadata": {},
   "outputs": [],
   "source": [
    "dfdx(0.2)"
   ]
  },
  {
   "cell_type": "code",
   "execution_count": null,
   "id": "statewide-front",
   "metadata": {
    "deletable": false,
    "editable": false,
    "nbgrader": {
     "cell_type": "code",
     "checksum": "733c6bf9c893a167b6023a37b64241dc",
     "grade": true,
     "grade_id": "cell-221d948f68c10aea",
     "locked": true,
     "points": 1,
     "schema_version": 3,
     "solution": false,
     "task": false
    }
   },
   "outputs": [],
   "source": [
    "assert abs(dfdx(0.5) + 1.5) < 1e-5\n"
   ]
  },
  {
   "cell_type": "markdown",
   "id": "overhead-flood",
   "metadata": {},
   "source": [
    "Here are some initial values for Gradient descent.\n",
    "\n",
    "In the cell below, perform a **single** step of Gradient descent,\n",
    "i.e., given a value of `x`, update it according to the slope and\n",
    "learning rate `eta`. Print the value of `x` at the end of the\n",
    "cell."
   ]
  },
  {
   "cell_type": "code",
   "execution_count": null,
   "id": "surrounded-paintball",
   "metadata": {},
   "outputs": [],
   "source": [
    "eta = 0.1\n",
    "x = -1.5"
   ]
  },
  {
   "cell_type": "code",
   "execution_count": null,
   "id": "bright-cross",
   "metadata": {
    "deletable": false,
    "nbgrader": {
     "cell_type": "code",
     "checksum": "a3693a3c8d779018cc3d9dbe214658b2",
     "grade": true,
     "grade_id": "cell-31d499e5ce33e8e4",
     "locked": false,
     "points": 1,
     "schema_version": 3,
     "solution": true,
     "task": false
    }
   },
   "outputs": [],
   "source": [
    "# YOUR CODE HERE\n",
    "raise NotImplementedError()\n",
    "print(\"x = \", x)"
   ]
  },
  {
   "cell_type": "markdown",
   "id": "mediterranean-customer",
   "metadata": {},
   "source": [
    "Now execute the above cell multiple times ... observe how x is updated.\n",
    "\n",
    "Let's have Python take over the task of performing multiple steps. Write\n",
    "a loop below that updates `x` according to the Gradient Descent rules\n",
    "until one of two conditions are met:\n",
    "\n",
    " 1. the absolute value of the gradient is less than $10^{-5}$ \n",
    " 2. `max_iter` iterations have been performed\n",
    " \n",
    "After each iteration, print the value of `x`."
   ]
  },
  {
   "cell_type": "code",
   "execution_count": null,
   "id": "raised-turtle",
   "metadata": {},
   "outputs": [],
   "source": [
    "max_iter = 10\n",
    "eta = 0.1\n",
    "x = -1.5"
   ]
  },
  {
   "cell_type": "code",
   "execution_count": null,
   "id": "behind-manual",
   "metadata": {
    "deletable": false,
    "nbgrader": {
     "cell_type": "code",
     "checksum": "eff6a0e768f9e78a564125dbc7a9a7ad",
     "grade": true,
     "grade_id": "cell-166939ca3308ae0f",
     "locked": false,
     "points": 1,
     "schema_version": 3,
     "solution": true,
     "task": false
    }
   },
   "outputs": [],
   "source": [
    "# YOUR CODE HERE\n",
    "raise NotImplementedError()"
   ]
  },
  {
   "cell_type": "markdown",
   "id": "thousand-prototype",
   "metadata": {},
   "source": [
    "For the coup de grâce, let's wrap the whole thing in a\n",
    "function.\n",
    "\n",
    "Write a function `gradient_descent`, which takes three\n",
    "arguments:\n",
    "\n",
    " 1. the initial value `x`, \n",
    " 2. the learning rate `eta`\n",
    " 3. and the maximum number of iterations `max_iter`.\n",
    " \n",
    "It should then update the value `x` according to Gradient\n",
    "descent (see loop above) and finally return the approximation to\n",
    "the minimum.  "
   ]
  },
  {
   "cell_type": "code",
   "execution_count": null,
   "id": "caring-valve",
   "metadata": {
    "deletable": false,
    "nbgrader": {
     "cell_type": "code",
     "checksum": "ef5c94bdc1a7162da9f127b185f8f3bd",
     "grade": false,
     "grade_id": "cell-d55fff0b84243184",
     "locked": false,
     "schema_version": 3,
     "solution": true,
     "task": false
    }
   },
   "outputs": [],
   "source": [
    "# YOUR CODE HERE\n",
    "raise NotImplementedError()"
   ]
  },
  {
   "cell_type": "code",
   "execution_count": null,
   "id": "located-liver",
   "metadata": {},
   "outputs": [],
   "source": [
    "gradient_descent(-1.5, 0.1, 20)"
   ]
  },
  {
   "cell_type": "code",
   "execution_count": null,
   "id": "later-democracy",
   "metadata": {
    "deletable": false,
    "editable": false,
    "nbgrader": {
     "cell_type": "code",
     "checksum": "ea52efaaf428cae8e735618885d5e9b7",
     "grade": true,
     "grade_id": "cell-cea517014b379ef2",
     "locked": true,
     "points": 2,
     "schema_version": 3,
     "solution": false,
     "task": false
    }
   },
   "outputs": [],
   "source": [
    "np.testing.assert_allclose(gradient_descent(-1.5, 0.1, 20), -1, atol=1e-5)\n",
    "np.testing.assert_allclose(gradient_descent(0.8, 0.15, 20), 1, atol=1e-5)\n",
    "np.testing.assert_allclose(gradient_descent(0.8, 0.1, 0), 0.8, atol=1e-5)\n"
   ]
  },
  {
   "cell_type": "markdown",
   "id": "substantial-longitude",
   "metadata": {
    "deletable": false,
    "editable": false,
    "nbgrader": {
     "cell_type": "markdown",
     "checksum": "c80258c3098835c3c227813dde5a95ee",
     "grade": false,
     "grade_id": "cell-6ea8197bc812dd6d",
     "locked": true,
     "schema_version": 3,
     "solution": false,
     "task": false
    }
   },
   "source": [
    "You should now play around with your function:\n",
    "\n",
    " 1. try different starting points. What happens when starting at $x = 0$ or $x$ close to a minimum?\n",
    " 2. try different values of $\\eta$.  How does the number of needed iterations depend on that?\n",
    " 3. what happens if you make $\\eta$ large?\n",
    " 4. can you find an $\\eta$ such that the minimum can be reached in a single step?\n",
    "\n",
    "You can record your answers to questions in the text block further below:"
   ]
  },
  {
   "cell_type": "code",
   "execution_count": null,
   "id": "electrical-brunswick",
   "metadata": {},
   "outputs": [],
   "source": [
    "# Cells for playing around"
   ]
  },
  {
   "cell_type": "code",
   "execution_count": null,
   "id": "urban-grass",
   "metadata": {},
   "outputs": [],
   "source": []
  },
  {
   "cell_type": "code",
   "execution_count": null,
   "id": "strange-correspondence",
   "metadata": {},
   "outputs": [],
   "source": []
  },
  {
   "cell_type": "code",
   "execution_count": null,
   "id": "handed-disease",
   "metadata": {},
   "outputs": [],
   "source": []
  },
  {
   "cell_type": "markdown",
   "id": "bronze-occasions",
   "metadata": {
    "deletable": false,
    "nbgrader": {
     "cell_type": "markdown",
     "checksum": "aae4f772fc043acd62559b1d60e9fc0c",
     "grade": true,
     "grade_id": "cell-56ae11f2f00aec1c",
     "locked": false,
     "points": 2,
     "schema_version": 3,
     "solution": true,
     "task": false
    }
   },
   "source": [
    "YOUR ANSWER HERE"
   ]
  },
  {
   "cell_type": "code",
   "execution_count": null,
   "id": "reported-reach",
   "metadata": {},
   "outputs": [],
   "source": []
  }
 ],
 "metadata": {
  "kernelspec": {
   "display_name": "Python 3 (ipykernel)",
   "language": "python",
   "name": "python3"
  },
  "language_info": {
   "codemirror_mode": {
    "name": "ipython",
    "version": 3
   },
   "file_extension": ".py",
   "mimetype": "text/x-python",
   "name": "python",
   "nbconvert_exporter": "python",
   "pygments_lexer": "ipython3",
   "version": "3.10.6"
  }
 },
 "nbformat": 4,
 "nbformat_minor": 5
}
