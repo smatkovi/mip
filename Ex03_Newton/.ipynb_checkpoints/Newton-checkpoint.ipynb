{
 "cells": [
  {
   "cell_type": "markdown",
   "id": "inside-architecture",
   "metadata": {
    "deletable": false,
    "editable": false,
    "nbgrader": {
     "cell_type": "markdown",
     "checksum": "6b32e7275402ea6dd414f297192a286c",
     "grade": false,
     "grade_id": "cell-02ac1cb4b3785b76",
     "locked": true,
     "schema_version": 3,
     "solution": false,
     "task": false
    }
   },
   "source": [
    "Exercise 3: Newton's method\n",
    "===========================\n",
    "\n",
    "We are going to implement Newton's method in multiple dimensions."
   ]
  },
  {
   "cell_type": "markdown",
   "id": "classical-fence",
   "metadata": {},
   "source": [
    "We are going to consider the following function:\n",
    "$$\n",
    "        E(x) = ||x||^4 - ||x||^2 - \\frac 15 x_0,\n",
    "$$\n",
    "where $x = (x_0, x_1)^T$ and $||x||^2 = x_0^2 + x_1^2$.\n",
    "Using $\\partial_i ||x||^2 = 2 x_i$, one can work out the gradient\n",
    "of this function:\n",
    "$$\n",
    "        J_i(x) = \\frac{\\partial E(x)}{\\partial x_i} = (4 ||x||^2 - 2) x_i - \\frac 15 \\delta_{i0}\n",
    "$$\n",
    "First, write a function $E(x)$ which takes a numpy array $x$ as input and computes the energy\n",
    "at $x$ and a function $J(x)$ which returns a numpy vector for the gradient at $x$.\n",
    "\n",
    "Don't forget to import the numpy package."
   ]
  },
  {
   "cell_type": "code",
   "execution_count": 35,
   "id": "coordinated-child",
   "metadata": {
    "deletable": false,
    "nbgrader": {
     "cell_type": "code",
     "checksum": "09aaf550ce6539437c8d0d8e76a84c15",
     "grade": false,
     "grade_id": "cell-3788c1aeffb978c0",
     "locked": false,
     "schema_version": 3,
     "solution": true,
     "task": false
    }
   },
   "outputs": [],
   "source": [
    "# YOUR CODE HERE\n",
    "import numpy as np\n",
    "\n",
    "def E(x):\n",
    "    return (x[0]**2 + x[1]**2)**2 - (x[0]**2 + x[1]**2) - x[0]/5\n",
    "    \n",
    "def J(x):\n",
    "    J = np.zeros(2)\n",
    "    J[0] += (4.*(x[0]**2 + x[1]**2) - 2.)*x[0] - 1./5.\n",
    "    J[1] += (4.*(x[0]**2 + x[1]**2) - 2.)*x[1]\n",
    "    return J"
   ]
  },
  {
   "cell_type": "code",
   "execution_count": 11,
   "id": "chronic-completion",
   "metadata": {},
   "outputs": [
    {
     "data": {
      "text/plain": [
       "-0.06110000000000003"
      ]
     },
     "execution_count": 11,
     "metadata": {},
     "output_type": "execute_result"
    }
   ],
   "source": [
    "E(np.array([-0.4,0.1]))"
   ]
  },
  {
   "cell_type": "code",
   "execution_count": 37,
   "id": "acquired-binary",
   "metadata": {},
   "outputs": [
    {
     "data": {
      "text/plain": [
       "array([-0.38,  0.36])"
      ]
     },
     "execution_count": 37,
     "metadata": {},
     "output_type": "execute_result"
    }
   ],
   "source": [
    "J(np.array([0.1,-0.2]))"
   ]
  },
  {
   "cell_type": "code",
   "execution_count": 36,
   "id": "approximate-michael",
   "metadata": {
    "deletable": false,
    "editable": false,
    "nbgrader": {
     "cell_type": "code",
     "checksum": "7ca64d6390c84c7eba9d564ee46efd2d",
     "grade": true,
     "grade_id": "cell-c4a4f0ff742bd35a",
     "locked": true,
     "points": 2,
     "schema_version": 3,
     "solution": false,
     "task": false
    }
   },
   "outputs": [],
   "source": [
    "assert np.allclose(E(np.array([0.0,0.0])), 0, atol=1e-4)\n",
    "assert np.allclose(E(np.array([0.5,0.2])), -0.3059, atol=1e-4)\n",
    "assert np.shape(J(np.array([0.0,0.0]))) == (2,)\n",
    "assert np.allclose(J(np.array([0.752619,0.0])), [0,0], atol=1e-4)\n"
   ]
  },
  {
   "cell_type": "markdown",
   "id": "interstate-hardwood",
   "metadata": {
    "deletable": false,
    "editable": false,
    "nbgrader": {
     "cell_type": "markdown",
     "checksum": "5081a811a222ffe99a44367596e184d1",
     "grade": false,
     "grade_id": "cell-727b8428c0344d19",
     "locked": true,
     "schema_version": 3,
     "solution": false,
     "task": false
    }
   },
   "source": [
    "For your convenience, there is a false color plot of $E(x)$ below:"
   ]
  },
  {
   "cell_type": "code",
   "execution_count": 38,
   "id": "cardiac-implementation",
   "metadata": {
    "deletable": false,
    "editable": false,
    "nbgrader": {
     "cell_type": "code",
     "checksum": "a3a7fd1a74da544486fc411b2026c7d4",
     "grade": false,
     "grade_id": "cell-c7c3e71c049df212",
     "locked": true,
     "schema_version": 3,
     "solution": false,
     "task": false
    }
   },
   "outputs": [
    {
     "name": "stderr",
     "output_type": "stream",
     "text": [
      "Matplotlib created a temporary config/cache directory at /tmp/matplotlib-idkox4x4 because the default path (/home/e01026902/.cache/matplotlib) is not a writable directory; it is highly recommended to set the MPLCONFIGDIR environment variable to a writable directory, in particular to speed up the import of Matplotlib and to better support multiprocessing.\n"
     ]
    },
    {
     "data": {
      "image/png": "[encoded data removed]",
      "text/plain": [
       "<Figure size 640x480 with 2 Axes>"
      ]
     },
     "metadata": {},
     "output_type": "display_data"
    }
   ],
   "source": [
    "# You don't need to understand this code\n",
    "def _plot(f):\n",
    "    import matplotlib.pyplot as pl\n",
    "    x = np.linspace(-1.2, 1.2, 31)\n",
    "    fx = np.array([[f(np.array([a, b])) for a in x] for b in x])\n",
    "    pl.pcolormesh(x, x, fx, cmap='seismic', vmax=1, vmin=-1, shading='auto')\n",
    "    pl.colorbar()\n",
    "    pl.xlabel(r'$x_0$')\n",
    "    pl.ylabel(r'$x_1$')\n",
    "    pl.title(r'$E(x)$ with $x = (x_0, x_1)^T$')\n",
    "    pl.axis('scaled')\n",
    "    x0 = [-0.6505, -0.10213, 0.75262]\n",
    "    pl.scatter(x0, [0, 0, 0], marker='x', c='k')\n",
    "    for x0i, t in zip(x0, 'ABC'): pl.text(x0i, 0.1, t, ha='center')\n",
    "\n",
    "_plot(E)"
   ]
  },
  {
   "cell_type": "markdown",
   "id": "danish-toner",
   "metadata": {},
   "source": [
    "In the above plot, I have marked points (A,B,C) where the gradient is zero:\n",
    "\n",
    "$$\n",
    "\\begin{aligned}\n",
    " x_A &\\approx (-0.6505, 0)^T \\\\\n",
    " x_B &\\approx (-0.10213, 0)^T \\\\\n",
    " x_C &\\approx (0.75262, 0)^T \\\\\n",
    "\\end{aligned}\n",
    "$$\n",
    "\n",
    "Identify the character of these points below:"
   ]
  },
  {
   "cell_type": "markdown",
   "id": "seeing-feeling",
   "metadata": {
    "deletable": false,
    "nbgrader": {
     "cell_type": "markdown",
     "checksum": "1b941fa6462136200e9074b9c9d51aef",
     "grade": true,
     "grade_id": "cell-cb2974020bc029fc",
     "locked": false,
     "points": 1,
     "schema_version": 3,
     "solution": true,
     "task": false
    }
   },
   "source": [
    "x_A is a local minimum\n",
    "x_B is a global maximum\n",
    "x_C is a global minimum"
   ]
  },
  {
   "cell_type": "markdown",
   "id": "ancient-despite",
   "metadata": {
    "deletable": false,
    "editable": false,
    "nbgrader": {
     "cell_type": "markdown",
     "checksum": "e6c4ba4915d42d4610996d85f5df066c",
     "grade": false,
     "grade_id": "cell-1e68ea4c0f74b0f0",
     "locked": true,
     "schema_version": 3,
     "solution": false,
     "task": false
    }
   },
   "source": [
    "Adapt your gradient descent solver (without Nesterov acceleration) from the\n",
    "previous exercise so that it can handle any dimension.\n",
    "\n",
    "`x0` is then a numpy array corresponding to the first points, `grad` is a\n",
    "function taking and returning an array.  Be mindful: in numpy, comparisons are\n",
    "component-by-component (this may lead to an error)."
   ]
  },
  {
   "cell_type": "code",
   "execution_count": 107,
   "id": "turkish-enlargement",
   "metadata": {
    "deletable": false,
    "nbgrader": {
     "cell_type": "code",
     "checksum": "72ef7f01e325097beb6f83e81623d547",
     "grade": true,
     "grade_id": "cell-39a3f30255cf24b4",
     "locked": false,
     "points": 1,
     "schema_version": 3,
     "solution": true,
     "task": false
    }
   },
   "outputs": [],
   "source": [
    "def gradient_descent(grad, x0, eta, max_iter):\n",
    "    x = np.empty((max_iter+1, len(x0)))\n",
    "    x[0] = x0\n",
    "    k = 0\n",
    "    \n",
    "    while k<max_iter  and  np.any(abs(eta*grad(x0))  >  1e-5):\n",
    "        x0  -=  eta * grad(x0)\n",
    "        k += 1\n",
    "        x[k] = x0\n",
    "        \n",
    "    return x"
   ]
  },
  {
   "cell_type": "code",
   "execution_count": 108,
   "id": "absent-paintball",
   "metadata": {},
   "outputs": [
    {
     "data": {
      "text/plain": [
       "array([[0.1       , 0.1       ],\n",
       "       [0.1392    , 0.1192    ],\n",
       "       [0.18516997, 0.14143865],\n",
       "       [0.23818261, 0.16665474],\n",
       "       [0.2977681 , 0.19435245],\n",
       "       [0.36226196, 0.22339346],\n",
       "       [0.42846653, 0.25188611],\n",
       "       [0.49182217, 0.27737394],\n",
       "       [0.54746446, 0.29747519],\n",
       "       [0.59194514, 0.31077723],\n",
       "       [0.62449875, 0.317368  ],\n",
       "       [0.6468166 , 0.31854593],\n",
       "       [0.66168263, 0.31601754],\n",
       "       [0.67170684, 0.31125313],\n",
       "       [0.67879164, 0.30526853],\n",
       "       [0.68414414, 0.29868121],\n",
       "       [0.6884735 , 0.29183978],\n",
       "       [0.69217975, 0.28493295],\n",
       "       [0.69548449, 0.27806042],\n",
       "       [0.69851014, 0.27127393],\n",
       "       [0.70132512, 0.26459995]])"
      ]
     },
     "execution_count": 108,
     "metadata": {},
     "output_type": "execute_result"
    }
   ],
   "source": [
    "gradient_descent(J, np.array([0.1, 0.1]), 0.1, 20)"
   ]
  },
  {
   "cell_type": "code",
   "execution_count": null,
   "id": "serious-clock",
   "metadata": {},
   "outputs": [],
   "source": []
  },
  {
   "cell_type": "markdown",
   "id": "statewide-elder",
   "metadata": {
    "deletable": false,
    "editable": false,
    "nbgrader": {
     "cell_type": "markdown",
     "checksum": "ca6944bc7a75375edc44059baa9fd68e",
     "grade": false,
     "grade_id": "cell-51055b8e6b8d632c",
     "locked": true,
     "schema_version": 3,
     "solution": false,
     "task": false
    }
   },
   "source": [
    "Note that the minimum found by the above code is off by quite a bit ... why?\n",
    "\n",
    "How can you change the parameters so that it works better?  Would acceleration help?"
   ]
  },
  {
   "cell_type": "markdown",
   "id": "842913f4",
   "metadata": {
    "deletable": false,
    "nbgrader": {
     "cell_type": "markdown",
     "checksum": "05b130ad76c756419e38b2bb0c507dc0",
     "grade": true,
     "grade_id": "cell-e91fcd97332874ec",
     "locked": false,
     "points": 1,
     "schema_version": 3,
     "solution": true,
     "task": false
    }
   },
   "source": [
    "the step size eta could be too large or the maximum number of iterations could be too small, acceleration could also help"
   ]
  },
  {
   "cell_type": "code",
   "execution_count": 64,
   "id": "f8901733",
   "metadata": {},
   "outputs": [
    {
     "data": {
      "text/plain": [
       "array([[1.00000000e-001, 1.00000000e-001],\n",
       "       [1.39200000e-001, 1.19200000e-001],\n",
       "       [1.85169972e-001, 1.41438654e-001],\n",
       "       [2.38182607e-001, 1.66654744e-001],\n",
       "       [2.97768103e-001, 1.94352445e-001],\n",
       "       [3.62261956e-001, 2.23393465e-001],\n",
       "       [4.28466532e-001, 2.51886107e-001],\n",
       "       [4.91822173e-001, 2.77373940e-001],\n",
       "       [5.47464456e-001, 2.97475190e-001],\n",
       "       [5.91945136e-001, 3.10777231e-001],\n",
       "       [6.24498745e-001, 3.17368005e-001],\n",
       "       [6.46816602e-001, 3.18545931e-001],\n",
       "       [6.61682630e-001, 3.16017539e-001],\n",
       "       [6.71706841e-001, 3.11253134e-001],\n",
       "       [6.78791640e-001, 3.05268534e-001],\n",
       "       [6.84144140e-001, 2.98681209e-001],\n",
       "       [6.88473498e-001, 2.91839776e-001],\n",
       "       [6.92179751e-001, 2.84932954e-001],\n",
       "       [6.95484487e-001, 2.78060418e-001],\n",
       "       [6.98510140e-001, 2.71273934e-001],\n",
       "       [7.01325124e-001, 2.64599948e-001],\n",
       "       [7.03968713e-001, 2.58051622e-001],\n",
       "       [7.06464506e-001, 2.51635159e-001],\n",
       "       [7.08827661e-001, 2.45353103e-001],\n",
       "       [7.11068750e-001, 2.39206046e-001],\n",
       "       [7.13195810e-001, 2.33193525e-001],\n",
       "       [7.15215435e-001, 2.27314485e-001],\n",
       "       [7.17133360e-001, 2.21567521e-001],\n",
       "       [7.18954769e-001, 2.15951012e-001],\n",
       "       [7.20684460e-001, 2.10463196e-001],\n",
       "       [7.22326941e-001, 2.05102206e-001],\n",
       "       [7.23886476e-001, 1.99866101e-001],\n",
       "       [7.25367118e-001, 1.94752879e-001],\n",
       "       [7.26772727e-001, 1.89760495e-001],\n",
       "       [7.28106981e-001, 1.84886866e-001],\n",
       "       [7.29373392e-001, 1.80129880e-001],\n",
       "       [7.30575304e-001, 1.75487405e-001],\n",
       "       [7.31715911e-001, 1.70957296e-001],\n",
       "       [7.32798253e-001, 1.66537395e-001],\n",
       "       [7.33825232e-001, 1.62225543e-001],\n",
       "       [7.34799610e-001, 1.58019580e-001],\n",
       "       [7.35724020e-001, 1.53917351e-001],\n",
       "       [7.36600968e-001, 1.49916707e-001],\n",
       "       [7.37432841e-001, 1.46015514e-001],\n",
       "       [7.38221912e-001, 1.42211651e-001],\n",
       "       [7.38970341e-001, 1.38503013e-001],\n",
       "       [7.39680185e-001, 1.34887517e-001],\n",
       "       [7.40353402e-001, 1.31363099e-001],\n",
       "       [7.40991850e-001, 1.27927722e-001],\n",
       "       [7.41597300e-001, 1.24579371e-001],\n",
       "       [7.42171433e-001, 1.21316060e-001],\n",
       "       [7.42715848e-001, 1.18135832e-001],\n",
       "       [7.43232062e-001, 1.15036755e-001],\n",
       "       [7.43721521e-001, 1.12016932e-001],\n",
       "       [7.44185595e-001, 1.09074494e-001],\n",
       "       [7.44625586e-001, 1.06207604e-001],\n",
       "       [7.45042732e-001, 1.03414458e-001],\n",
       "       [7.45438207e-001, 1.00693284e-001],\n",
       "       [7.45813128e-001, 9.80423413e-002],\n",
       "       [7.46168552e-001, 9.54599248e-002],\n",
       "       [7.46505487e-001, 9.29443608e-002],\n",
       "       [7.46824886e-001, 9.04940092e-002],\n",
       "       [7.47127656e-001, 8.81072632e-002],\n",
       "       [7.47414656e-001, 8.57825487e-002],\n",
       "       [7.47686702e-001, 8.35183247e-002],\n",
       "       [7.47944568e-001, 8.13130830e-002],\n",
       "       [7.48188990e-001, 7.91653477e-002],\n",
       "       [7.48420665e-001, 7.70736752e-002],\n",
       "       [7.48640253e-001, 7.50366536e-002],\n",
       "       [7.48848382e-001, 7.30529028e-002],\n",
       "       [7.49045648e-001, 7.11210735e-002],\n",
       "       [7.49232615e-001, 6.92398474e-002],\n",
       "       [7.49409818e-001, 6.74079364e-002],\n",
       "       [7.49577765e-001, 6.56240823e-002],\n",
       "       [7.49736937e-001, 6.38870563e-002],\n",
       "       [7.49887792e-001, 6.21956585e-002],\n",
       "       [7.50030763e-001, 6.05487174e-002],\n",
       "       [7.50166261e-001, 5.89450897e-002],\n",
       "       [7.50294674e-001, 5.73836592e-002],\n",
       "       [7.50416372e-001, 5.58633369e-002],\n",
       "       [7.50531706e-001, 5.43830603e-002],\n",
       "       [7.50641007e-001, 5.29417926e-002],\n",
       "       [7.50744590e-001, 5.15385227e-002],\n",
       "       [7.50842754e-001, 5.01722641e-002],\n",
       "       [7.50935781e-001, 4.88420549e-002],\n",
       "       [7.51023940e-001, 4.75469572e-002],\n",
       "       [7.51107484e-001, 4.62860562e-002],\n",
       "       [7.51186656e-001, 4.50584601e-002],\n",
       "       [7.51261683e-001, 4.38632997e-002],\n",
       "       [7.51332783e-001, 4.26997273e-002],\n",
       "       [7.51400159e-001, 4.15669169e-002],\n",
       "       [7.51464008e-001, 4.04640633e-002],\n",
       "       [7.51524513e-001, 3.93903818e-002],\n",
       "       [7.51581849e-001, 3.83451077e-002],\n",
       "       [7.51636183e-001, 3.73274957e-002],\n",
       "       [7.51687670e-001, 3.63368196e-002],\n",
       "       [7.51736461e-001, 3.53723718e-002],\n",
       "       [7.51782696e-001, 3.44334630e-002],\n",
       "       [7.51826508e-001, 3.35194214e-002],\n",
       "       [7.51868026e-001, 3.26295927e-002],\n",
       "       [7.51907368e-001, 3.17633394e-002],\n",
       "       [7.51944648e-001, 3.09200406e-002],\n",
       "       [7.51979976e-001, 3.00990912e-002],\n",
       "       [7.52013452e-001, 2.92999021e-002],\n",
       "       [7.52045174e-001, 2.85218992e-002],\n",
       "       [7.52075233e-001, 2.77645237e-002],\n",
       "       [7.52103717e-001, 2.70272309e-002],\n",
       "       [7.52130709e-001, 2.63094907e-002],\n",
       "       [7.52156286e-001, 2.56107864e-002],\n",
       "       [7.52180522e-001, 2.49306153e-002],\n",
       "       [7.52203488e-001, 2.42684873e-002],\n",
       "       [7.52225250e-001, 2.36239256e-002],\n",
       "       [7.52245872e-001, 2.29964654e-002],\n",
       "       [7.52265412e-001, 2.23856546e-002],\n",
       "       [7.52283929e-001, 2.17910525e-002],\n",
       "       [7.52301474e-001, 2.12122302e-002],\n",
       "       [7.52318100e-001, 2.06487700e-002],\n",
       "       [7.52333855e-001, 2.01002652e-002],\n",
       "       [7.52348783e-001, 1.95663197e-002],\n",
       "       [7.52362929e-001, 1.90465480e-002],\n",
       "       [7.52376333e-001, 1.85405746e-002],\n",
       "       [7.52389035e-001, 1.80480339e-002],\n",
       "       [7.52401070e-001, 1.75685699e-002],\n",
       "       [7.52412475e-001, 1.71018360e-002],\n",
       "       [7.52423282e-001, 1.66474949e-002],\n",
       "       [7.52433522e-001, 1.62052180e-002],\n",
       "       [7.52443225e-001, 1.57746855e-002],\n",
       "       [7.52452419e-001, 1.53555859e-002],\n",
       "       [7.52461132e-001, 1.49476160e-002],\n",
       "       [7.52469387e-001, 1.45504806e-002],\n",
       "       [7.52477210e-001, 1.41638924e-002],\n",
       "       [7.52484623e-001, 1.37875716e-002],\n",
       "       [7.52491647e-001, 1.34212457e-002],\n",
       "       [7.52498302e-001, 1.30646496e-002],\n",
       "       [7.52504609e-001, 1.27175251e-002],\n",
       "       [7.52510585e-001, 1.23796209e-002],\n",
       "       [7.52516248e-001, 1.20506922e-002],\n",
       "       [7.52521613e-001, 1.17305008e-002],\n",
       "       [7.52526698e-001, 1.14188149e-002],\n",
       "       [7.52531516e-001, 1.11154087e-002],\n",
       "       [7.52536081e-001, 1.08200624e-002],\n",
       "       [7.52540406e-001, 1.05325620e-002],\n",
       "       [7.52544505e-001, 1.02526991e-002],\n",
       "       [7.52548389e-001, 9.98027119e-003],\n",
       "       [7.52552070e-001, 9.71508068e-003],\n",
       "       [7.52555557e-001, 9.45693544e-003],\n",
       "       [7.52558861e-001, 9.20564840e-003],\n",
       "       [7.52561993e-001, 8.96103744e-003],\n",
       "       [7.52564960e-001, 8.72292528e-003],\n",
       "       [7.52567771e-001, 8.49113934e-003],\n",
       "       [7.52570435e-001, 8.26551160e-003],\n",
       "       [7.52572959e-001, 8.04587851e-003],\n",
       "       [7.52575351e-001, 7.83208087e-003],\n",
       "       [7.52577618e-001, 7.62396368e-003],\n",
       "       [7.52579765e-001, 7.42137607e-003],\n",
       "       [7.52581800e-001, 7.22417117e-003],\n",
       "       [7.52583729e-001, 7.03220600e-003],\n",
       "       [7.52585556e-001, 6.84534138e-003],\n",
       "       [7.52587287e-001, 6.66344183e-003],\n",
       "       [7.52588928e-001, 6.48637545e-003],\n",
       "       [7.52590482e-001, 6.31401386e-003],\n",
       "       [7.52591955e-001, 6.14623207e-003],\n",
       "       [7.52593351e-001, 5.98290842e-003],\n",
       "       [7.52594674e-001, 5.82392448e-003],\n",
       "       [7.52595927e-001, 5.66916496e-003],\n",
       "       [7.52597115e-001, 5.51851763e-003],\n",
       "       [7.52598240e-001, 5.37187325e-003],\n",
       "       [7.52599306e-001, 5.22912545e-003],\n",
       "       [7.52600316e-001, 5.09017073e-003],\n",
       "       [7.52601274e-001, 4.95490831e-003],\n",
       "       [7.52602181e-001, 4.82324009e-003],\n",
       "       [7.52603040e-001, 4.69507058e-003],\n",
       "       [7.52603855e-001, 4.57030681e-003],\n",
       "       [7.52604627e-001, 4.44885831e-003],\n",
       "       [7.52605358e-001, 4.33063699e-003],\n",
       "       [7.52606051e-001, 4.21555711e-003],\n",
       "       [7.52606707e-001, 4.10353519e-003],\n",
       "       [7.52607330e-001, 3.99448998e-003],\n",
       "       [7.52607919e-001, 3.88834241e-003],\n",
       "       [7.52608478e-001, 3.78501546e-003],\n",
       "       [7.52609007e-001, 3.68443421e-003],\n",
       "       [7.52609509e-001, 3.58652569e-003],\n",
       "       [7.52609984e-001, 3.49121888e-003],\n",
       "       [7.52610434e-001, 3.39844466e-003],\n",
       "       [7.52610861e-001, 3.30813573e-003],\n",
       "       [7.52611265e-001, 3.22022658e-003],\n",
       "       [7.52611649e-001, 3.13465346e-003],\n",
       "       [7.52612012e-001, 3.05135428e-003],\n",
       "       [7.52612356e-001, 2.97026863e-003],\n",
       "       [7.52612682e-001, 2.89133768e-003],\n",
       "       [7.52612991e-001, 2.81450419e-003],\n",
       "       [7.52613283e-001, 2.73971242e-003],\n",
       "       [7.52613561e-001, 2.66690811e-003],\n",
       "       [7.52613823e-001, 2.59603846e-003],\n",
       "       [7.52614072e-001, 2.52705205e-003],\n",
       "       [7.52614308e-001, 2.45989885e-003],\n",
       "       [7.52614532e-001, 2.39453014e-003],\n",
       "       [7.52614744e-001, 2.33089850e-003],\n",
       "       [7.52614945e-001, 2.26895778e-003],\n",
       "       [7.52615135e-001, 2.20866304e-003],\n",
       "       [7.52615315e-001, 2.14997054e-003],\n",
       "       [7.52615486e-001, 2.09283771e-003],\n",
       "       [7.52615648e-001, 2.03722310e-003],\n",
       "       [7.52615801e-001, 1.98308637e-003],\n",
       "       [7.52615946e-001, 1.93038825e-003],\n",
       "       [7.52616084e-001, 1.87909050e-003],\n",
       "       [7.52616214e-001, 1.82915593e-003],\n",
       "       [7.52616338e-001, 1.78054830e-003],\n",
       "       [7.52616455e-001, 1.73323235e-003],\n",
       "       [7.52616566e-001, 1.68717375e-003],\n",
       "       [7.52616671e-001, 1.64233911e-003],\n",
       "       [7.52616771e-001, 1.59869588e-003],\n",
       "       [7.52616865e-001, 1.55621242e-003],\n",
       "       [7.52616955e-001, 1.51485790e-003],\n",
       "       [7.52617040e-001, 1.47460232e-003],\n",
       "       [7.52617120e-001, 1.43541649e-003],\n",
       "       [7.52617196e-001, 1.39727196e-003],\n",
       "       [7.52617268e-001, 1.36014108e-003],\n",
       "       [7.52617337e-001, 1.32399691e-003],\n",
       "       [7.52617401e-001, 1.28881323e-003],\n",
       "       [7.52617463e-001, 1.25456450e-003],\n",
       "       [7.52617521e-001, 1.22122590e-003],\n",
       "       [7.52617576e-001, 1.18877322e-003],\n",
       "       [7.52617628e-001, 1.15718294e-003],\n",
       "       [7.52617678e-001, 1.12643213e-003],\n",
       "       [7.52617725e-001, 1.09649849e-003],\n",
       "       [7.52617769e-001, 1.06736029e-003],\n",
       "       [7.52617811e-001, 1.03899641e-003],\n",
       "       [7.52617851e-001, 1.01138627e-003],\n",
       "       [7.52617889e-001, 9.84509827e-004],\n",
       "       [7.52617925e-001, 9.58347599e-004],\n",
       "       [7.52617959e-001, 9.32880600e-004],\n",
       "       [7.52617991e-001, 9.08090357e-004],\n",
       "       [7.52618021e-001, 8.83958886e-004],\n",
       "       [7.52618050e-001, 8.60468680e-004],\n",
       "       [7.52618077e-001, 8.37602699e-004],\n",
       "       [7.52618103e-001, 8.15344355e-004],\n",
       "       [7.52618128e-001, 7.93677500e-004],\n",
       "       [7.52618151e-001, 7.72586417e-004],\n",
       "       [7.52618173e-001, 7.52055805e-004],\n",
       "       [7.52618194e-001, 7.32070770e-004],\n",
       "       [7.52618214e-001, 7.12616815e-004],\n",
       "       [7.52618233e-001, 6.93679826e-004],\n",
       "       [7.52618251e-001, 6.75246065e-004],\n",
       "       [7.52618267e-001, 6.57302161e-004],\n",
       "       [7.52618283e-001, 6.39835095e-004],\n",
       "       [7.52618298e-001, 6.22832197e-004],\n",
       "       [7.52618313e-001, 6.06281131e-004],\n",
       "       [7.52618326e-001, 5.90169891e-004],\n",
       "       [7.52618339e-001, 5.74486788e-004],\n",
       "       [7.52618351e-001, 5.59220447e-004],\n",
       "       [7.52618363e-001, 5.44359791e-004],\n",
       "       [7.52618374e-001, 5.29894040e-004],\n",
       "       [7.52618384e-001, 5.15812699e-004],\n",
       "       [7.52618394e-001, 5.02105555e-004],\n",
       "       [7.52618403e-001, 4.88762662e-004],\n",
       "       [7.52618412e-001, 4.75774342e-004],\n",
       "       [7.52618421e-001, 4.63131172e-004],\n",
       "       [7.52618429e-001, 4.50823979e-004],\n",
       "       [7.52618436e-001, 4.38843836e-004],\n",
       "       [7.52618443e-001, 4.27182052e-004],\n",
       "       [7.52618450e-001, 4.15830167e-004],\n",
       "       [7.52618456e-001, 4.04779946e-004],\n",
       "       [7.52618462e-001, 3.94023371e-004],\n",
       "       [7.52618468e-001, 3.83552641e-004],\n",
       "       [7.52618474e-001, 3.73360158e-004],\n",
       "       [7.52618479e-001, 3.63438529e-004],\n",
       "       [7.52618484e-001, 3.53780556e-004],\n",
       "       [7.52618488e-001, 3.44379233e-004],\n",
       "       [7.52618493e-001, 3.35227740e-004],\n",
       "       [7.52618497e-001, 3.26319437e-004],\n",
       "       [7.52618501e-001, 3.17647862e-004],\n",
       "       [7.52618504e-001, 3.09206725e-004],\n",
       "       [7.52618508e-001, 3.00989901e-004],\n",
       "       [7.52618511e-001, 2.92991431e-004],\n",
       "       [7.52618514e-001, 2.85205511e-004],\n",
       "       [7.52618517e-001, 2.77626492e-004],\n",
       "       [7.52618520e-001, 2.70248878e-004],\n",
       "       [7.52618523e-001, 2.63067316e-004],\n",
       "       [7.52618526e-001, 2.56076596e-004],\n",
       "       [7.52618528e-001, 2.49271646e-004],\n",
       "       [7.52618530e-001, 2.42647530e-004],\n",
       "       [7.52618532e-001, 2.36199442e-004],\n",
       "       [7.52618535e-001, 2.29922706e-004],\n",
       "       [7.52618536e-001, 2.23812766e-004],\n",
       "       [7.52618538e-001, 2.17865192e-004],\n",
       "       [7.52618540e-001, 2.12075667e-004],\n",
       "       [7.52618542e-001, 2.06439993e-004],\n",
       "       [7.52618543e-001, 2.00954080e-004],\n",
       "       [7.52618545e-001, 1.95613950e-004],\n",
       "       [7.52618546e-001, 1.90415727e-004],\n",
       "       [7.52618548e-001, 1.85355641e-004],\n",
       "       [7.52618549e-001, 1.80430022e-004],\n",
       "       [7.52618550e-001, 1.75635295e-004],\n",
       "       [7.52618551e-001, 1.70967983e-004],\n",
       "       [7.52618552e-001, 1.66424700e-004],\n",
       "       [7.52618553e-001, 1.62002149e-004],\n",
       "       [7.52618554e-001, 1.57697122e-004],\n",
       "       [7.52618555e-001, 1.53506497e-004],\n",
       "       [7.52618556e-001, 1.49427233e-004],\n",
       "       [7.52618557e-001, 1.45456371e-004],\n",
       "       [7.52618558e-001, 1.41591030e-004],\n",
       "       [7.52618558e-001, 1.37828406e-004],\n",
       "       [7.52618559e-001, 1.34165770e-004],\n",
       "       [7.52618560e-001, 1.30600464e-004],\n",
       "       [7.52618560e-001, 1.27129902e-004],\n",
       "       [7.52618561e-001, 1.23751567e-004],\n",
       "       [7.52618562e-001, 1.20463007e-004],\n",
       "       [7.52618562e-001, 1.17261837e-004],\n",
       "       [7.52618563e-001, 1.14145734e-004],\n",
       "       [7.52618563e-001, 1.11112438e-004],\n",
       "       [7.52618564e-001, 1.08159749e-004],\n",
       "       [7.52618564e-001, 1.05285524e-004],\n",
       "       [7.52618564e-001, 1.02487679e-004],\n",
       "       [7.52618565e-001, 9.97641831e-005],\n",
       "       [7.52618565e-001, 9.71130611e-005],\n",
       "       [7.52618565e-001, 9.45323897e-005],\n",
       "       [7.52618566e-001, 9.20202968e-005],\n",
       "       [7.52618566e-001, 8.95749600e-005],\n",
       "       [7.52618566e-001, 8.71946052e-005],\n",
       "       [7.52618567e-001, 8.48775058e-005],\n",
       "       [7.52618567e-001, 8.26219806e-005],\n",
       "       [7.52618567e-001, 8.04263936e-005],\n",
       "       [7.52618567e-001, 7.82891518e-005],\n",
       "       [7.52618568e-001, 7.62087048e-005],\n",
       "       [7.52618568e-001, 7.41835434e-005],\n",
       "       [7.52618568e-001, 7.22121984e-005],\n",
       "       [7.52618568e-001, 7.02932397e-005],\n",
       "       [7.52618568e-001, 6.84252752e-005],\n",
       "       [7.52618569e-001, 6.66069497e-005],\n",
       "       [7.52618569e-001, 6.48369443e-005],\n",
       "       [7.52618569e-001, 6.31139747e-005],\n",
       "       [7.52618569e-001, 6.14367912e-005],\n",
       "       [7.52618569e-001, 5.98041769e-005],\n",
       "       [7.52618569e-001, 5.82149475e-005],\n",
       "       [7.52618570e-001, 5.66679502e-005],\n",
       "       [7.52618570e-001, 5.51620625e-005],\n",
       "       [7.52618570e-001, 5.36961922e-005],\n",
       "       [7.52618570e-001, 5.22692757e-005],\n",
       "       [7.52618570e-001, 5.08802779e-005],\n",
       "       [7.52618570e-001, 4.95281913e-005],\n",
       "       [7.52618570e-001, 4.82120348e-005],\n",
       "       [7.52618570e-001, 4.69308537e-005],\n",
       "       [7.52618570e-001, 4.56837185e-005],\n",
       "       [7.52618570e-001, 4.44697246e-005],\n",
       "       [7.52618570e-001, 4.32879912e-005],\n",
       "       [7.52618571e-001, 4.21376611e-005],\n",
       "       [7.52618571e-001, 4.10178997e-005],\n",
       "       [7.52618571e-001, 3.99278947e-005],\n",
       "       [7.52618571e-001, 3.88668554e-005],\n",
       "       [7.52618571e-001, 3.78340120e-005],\n",
       "       [7.52618571e-001, 3.68286153e-005],\n",
       "       [7.52618571e-001, 3.58499359e-005],\n",
       "       [7.52618571e-001, 3.48972638e-005],\n",
       "       [7.52618571e-001, 3.39699079e-005],\n",
       "       [7.52618571e-001, 3.30671954e-005],\n",
       "       [7.52618571e-001, 3.21884715e-005],\n",
       "       [7.52618571e-001, 3.13330988e-005],\n",
       "       [7.52618571e-001, 3.05004566e-005],\n",
       "       [7.52618571e-001, 2.96899409e-005],\n",
       "       [7.52618571e-001, 2.89009638e-005],\n",
       "       [7.52618571e-001, 2.81329529e-005],\n",
       "       [7.52618571e-001, 2.73853510e-005],\n",
       "       [7.52618571e-001, 2.66576159e-005],\n",
       "       [7.52618571e-001, 2.59492194e-005],\n",
       "       [7.52618571e-001, 2.52596478e-005],\n",
       "       [7.52618571e-001, 2.45884008e-005],\n",
       "       [7.52618571e-001, 2.39349915e-005],\n",
       "       [7.52618571e-001, 2.32989457e-005],\n",
       "       [7.52618571e-001, 2.26798022e-005],\n",
       "       [7.52618571e-001, 2.20771117e-005],\n",
       "       [7.52618571e-001, 2.14904371e-005],\n",
       "       [7.52618571e-001, 2.09193527e-005],\n",
       "       [7.52618571e-001, 2.03634442e-005],\n",
       "       [7.52618571e-001, 1.98223083e-005],\n",
       "       [7.52618572e-001, 1.92955526e-005],\n",
       "       [7.52618572e-001, 1.87827948e-005],\n",
       "       [7.52618572e-001, 1.82836629e-005],\n",
       "       [7.52618572e-001, 1.77977950e-005],\n",
       "       [7.52618572e-001, 1.73248384e-005],\n",
       "       [7.52618572e-001, 1.68644501e-005],\n",
       "       [7.52618572e-001, 1.64162961e-005],\n",
       "       [7.52618572e-001, 1.59800514e-005],\n",
       "       [7.52618572e-001, 1.55553993e-005],\n",
       "       [7.52618572e-001, 1.51420319e-005],\n",
       "       [7.52618572e-001, 1.47396493e-005],\n",
       "       [7.52618572e-001, 1.43479595e-005],\n",
       "       [7.52618572e-001, 1.39666785e-005],\n",
       "       [7.52618572e-001, 1.35955296e-005],\n",
       "       [7.52618572e-001, 1.32342435e-005],\n",
       "       [7.52618572e-001, 1.28825582e-005],\n",
       "       [7.52618572e-001, 1.25402186e-005],\n",
       "       [7.52618572e-001, 1.22069763e-005],\n",
       "       [7.52618572e-001, 1.18825895e-005],\n",
       "       [7.52618572e-001, 1.15668229e-005],\n",
       "       [7.52618572e-001, 1.12594475e-005],\n",
       "       [7.52618572e-001, 1.09602402e-005],\n",
       "       [7.52618572e-001, 1.06689840e-005],\n",
       "       [7.52618572e-001, 1.03854677e-005],\n",
       "       [7.52618572e-001, 1.01094854e-005],\n",
       "       [6.94618327e-310, 6.94627473e-310],\n",
       "       [6.94618327e-310, 6.94627473e-310],\n",
       "       [6.94618327e-310, 6.94627473e-310],\n",
       "       [6.94618327e-310, 6.94627473e-310],\n",
       "       [6.94618327e-310, 6.94627473e-310],\n",
       "       [6.94618327e-310, 6.94627473e-310],\n",
       "       [6.94618327e-310, 6.94627473e-310],\n",
       "       [6.94618327e-310, 6.94627473e-310],\n",
       "       [6.94618327e-310, 6.94627473e-310],\n",
       "       [6.94618327e-310, 6.94627473e-310],\n",
       "       [6.94618327e-310, 6.94627473e-310],\n",
       "       [6.94618327e-310, 6.94627473e-310],\n",
       "       [6.94618327e-310, 6.94627473e-310],\n",
       "       [6.94618327e-310, 6.94627473e-310],\n",
       "       [6.94618327e-310, 6.94627473e-310],\n",
       "       [6.94618327e-310, 6.94627473e-310],\n",
       "       [6.94618327e-310, 6.94627473e-310],\n",
       "       [6.94618327e-310, 6.94627473e-310],\n",
       "       [6.94618327e-310, 6.94627473e-310],\n",
       "       [6.94618327e-310, 6.94627473e-310],\n",
       "       [6.94618327e-310, 6.94627473e-310],\n",
       "       [6.94618327e-310, 6.94627473e-310],\n",
       "       [6.94618327e-310, 6.94627473e-310],\n",
       "       [6.94618327e-310, 6.94627473e-310],\n",
       "       [6.94618327e-310, 6.94627473e-310],\n",
       "       [6.94618327e-310, 6.94627473e-310],\n",
       "       [6.94618327e-310, 6.94627473e-310],\n",
       "       [6.94618327e-310, 6.94627473e-310],\n",
       "       [6.94618327e-310, 6.94627473e-310],\n",
       "       [6.94618327e-310, 6.94627473e-310],\n",
       "       [6.94618327e-310, 6.94627473e-310],\n",
       "       [6.94618318e-310, 6.94627473e-310],\n",
       "       [6.94618318e-310, 6.94627473e-310],\n",
       "       [6.94618318e-310, 6.94627473e-310],\n",
       "       [6.94618318e-310, 6.94627473e-310],\n",
       "       [6.94618318e-310, 6.94627473e-310],\n",
       "       [6.94618318e-310, 6.94627473e-310],\n",
       "       [6.94618318e-310, 6.94627473e-310],\n",
       "       [6.94618318e-310, 6.94627473e-310],\n",
       "       [6.94618318e-310, 6.94627473e-310],\n",
       "       [6.94618318e-310, 6.94627473e-310],\n",
       "       [6.94618318e-310, 6.94627473e-310],\n",
       "       [6.94618318e-310, 6.94627473e-310]])"
      ]
     },
     "execution_count": 64,
     "metadata": {},
     "output_type": "execute_result"
    }
   ],
   "source": [
    "gradient_descent(J, np.array([0.1, 0.1]), 0.1, 442)"
   ]
  },
  {
   "cell_type": "code",
   "execution_count": null,
   "id": "3d134976-395a-4f09-b28e-2eb49b5d89ed",
   "metadata": {},
   "outputs": [],
   "source": []
  },
  {
   "cell_type": "code",
   "execution_count": null,
   "id": "cb90f157-e312-497a-9cef-d640a258dd1e",
   "metadata": {},
   "outputs": [],
   "source": []
  },
  {
   "cell_type": "code",
   "execution_count": null,
   "id": "3cb42f91-2093-4b48-8fb1-aa760dbfbd87",
   "metadata": {},
   "outputs": [],
   "source": []
  },
  {
   "cell_type": "code",
   "execution_count": null,
   "id": "b2e29f30-2764-45a1-98ad-c0e874b5dfbd",
   "metadata": {},
   "outputs": [],
   "source": []
  },
  {
   "cell_type": "markdown",
   "id": "historical-calvin",
   "metadata": {
    "deletable": false,
    "editable": false,
    "nbgrader": {
     "cell_type": "markdown",
     "checksum": "8f91cbfa37be1bea5e8800bcbb64fb54",
     "grade": false,
     "grade_id": "cell-fc77c1f2c7f7645b",
     "locked": true,
     "schema_version": 3,
     "solution": false,
     "task": false
    }
   },
   "source": [
    "Hessian\n",
    "------------\n",
    "\n",
    "The Hessian of $E$ is given by the second derivatives, which are:\n",
    "$$\n",
    "    H_{ij}(x) = \\frac{\\partial^2E(x)}{\\partial x_i\\partial x_j}  = (4 ||x||^2 - 2) \\delta_{ij} + 8 x_i x_j\n",
    "$$\n",
    "Implement this in the function $H$ below, which returns a $2\\times 2$ numpy matrix."
   ]
  },
  {
   "cell_type": "code",
   "execution_count": 76,
   "id": "wound-kernel",
   "metadata": {
    "deletable": false,
    "nbgrader": {
     "cell_type": "code",
     "checksum": "19aac36e90d9fa4e333a6a6f729340ec",
     "grade": false,
     "grade_id": "cell-b7dbd95fa1e5009d",
     "locked": false,
     "schema_version": 3,
     "solution": true,
     "task": false
    }
   },
   "outputs": [],
   "source": [
    "def H(x):\n",
    "    H = np.zeros((2, 2))\n",
    "    H[0, 0] += (4.*(x[0]**2 + x[1]**2) - 2.) + 8*x[0]**2\n",
    "    H[0, 1] += 8*x[0]*x[1]\n",
    "    H[1, 0] += 8*x[0]*x[1]\n",
    "    H[1, 1] += (4.*(x[0]**2 + x[1]**2) - 2.) + 8*x[1]**2\n",
    "    return H"
   ]
  },
  {
   "cell_type": "code",
   "execution_count": 77,
   "id": "regular-windows",
   "metadata": {},
   "outputs": [
    {
     "data": {
      "text/plain": [
       "array([[-1.52,  0.24],\n",
       "       [ 0.24, -0.88]])"
      ]
     },
     "execution_count": 77,
     "metadata": {},
     "output_type": "execute_result"
    }
   ],
   "source": [
    "H(np.array([0.1,0.3]))"
   ]
  },
  {
   "cell_type": "code",
   "execution_count": 78,
   "id": "reported-nashville",
   "metadata": {
    "deletable": false,
    "editable": false,
    "nbgrader": {
     "cell_type": "code",
     "checksum": "86fddabb2758ee7440771618939d6f04",
     "grade": true,
     "grade_id": "cell-4a7c8171d51d2b5f",
     "locked": true,
     "points": 1,
     "schema_version": 3,
     "solution": false,
     "task": false
    }
   },
   "outputs": [],
   "source": [
    "assert H(np.array([0.0,0.0])).shape == (2, 2)\n",
    "assert np.allclose(H(np.array([0.0,0.0])), [[-2, 0], [0, -2]], atol=1e-5)\n",
    "assert np.allclose(H(np.array([1.0,2.0])), [[26, 16], [16, 50]], atol=1e-5)\n"
   ]
  },
  {
   "cell_type": "markdown",
   "id": "important-estimate",
   "metadata": {
    "deletable": false,
    "editable": false,
    "nbgrader": {
     "cell_type": "markdown",
     "checksum": "296f6fd218b44294ef4a64f48ab94d7f",
     "grade": false,
     "grade_id": "cell-d4a8c002bfbd3252",
     "locked": true,
     "points": 1,
     "schema_version": 3,
     "solution": false,
     "task": true
    }
   },
   "source": [
    "Let's remind ourselves of the points (A,B,C) where the gradient is zero:\n",
    "\n",
    "$$\\begin{aligned}\n",
    " x_A &\\approx (-0.6505, 0)^T \\\\\n",
    " x_B &\\approx (-0.10213, 0)^T \\\\\n",
    " x_C &\\approx (0.75262, 0)^T \\\\\n",
    "\\end{aligned}$$\n",
    "\n",
    "Compute the Hessian for these points and prove the character you identified above\n",
    "using the Hessian."
   ]
  },
  {
   "cell_type": "code",
   "execution_count": 81,
   "id": "collected-section",
   "metadata": {},
   "outputs": [
    {
     "data": {
      "text/plain": [
       "array([ 3.077803, -0.307399])"
      ]
     },
     "execution_count": 81,
     "metadata": {},
     "output_type": "execute_result"
    }
   ],
   "source": [
    "np.linalg.eigvals(H(np.array([-0.6505, 0])))"
   ]
  },
  {
   "cell_type": "code",
   "execution_count": 80,
   "id": "million-fighter",
   "metadata": {},
   "outputs": [
    {
     "data": {
      "text/plain": [
       "array([[-1.87483356,  0.        ],\n",
       "       [ 0.        , -1.95827785]])"
      ]
     },
     "execution_count": 80,
     "metadata": {},
     "output_type": "execute_result"
    }
   ],
   "source": [
    "H(np.array([-0.10213, 0.0]))"
   ]
  },
  {
   "cell_type": "code",
   "execution_count": 82,
   "id": "ordered-postcard",
   "metadata": {},
   "outputs": [
    {
     "data": {
      "text/plain": [
       "array([[4.79724237, 0.        ],\n",
       "       [0.        , 0.26574746]])"
      ]
     },
     "execution_count": 82,
     "metadata": {},
     "output_type": "execute_result"
    }
   ],
   "source": [
    "H(np.array([0.75262, 0.0]))"
   ]
  },
  {
   "cell_type": "code",
   "execution_count": 83,
   "id": "temporal-remark",
   "metadata": {},
   "outputs": [
    {
     "name": "stdout",
     "output_type": "stream",
     "text": [
      "so only my assumptions about x_c were correct\n"
     ]
    }
   ],
   "source": [
    "print(\"so only my assumptions about x_c were correct\")"
   ]
  },
  {
   "cell_type": "code",
   "execution_count": null,
   "id": "light-roommate",
   "metadata": {},
   "outputs": [],
   "source": []
  },
  {
   "cell_type": "markdown",
   "id": "palestinian-cover",
   "metadata": {
    "deletable": false,
    "editable": false,
    "nbgrader": {
     "cell_type": "markdown",
     "checksum": "8e8459edeb94d65625555b05384a1960",
     "grade": false,
     "grade_id": "cell-b97db9da790a29cb",
     "locked": true,
     "schema_version": 3,
     "solution": false,
     "task": false
    }
   },
   "source": [
    "Summarize your findings below:"
   ]
  },
  {
   "cell_type": "markdown",
   "id": "complicated-kuwait",
   "metadata": {
    "deletable": false,
    "nbgrader": {
     "cell_type": "markdown",
     "checksum": "6f3c535b7a5dae657deb09811ef247e9",
     "grade": true,
     "grade_id": "cell-36b2f7c41442e9ca",
     "locked": false,
     "points": 1,
     "schema_version": 3,
     "solution": true,
     "task": false
    }
   },
   "source": [
    "so only my assumptions about x_c were correct"
   ]
  },
  {
   "cell_type": "markdown",
   "id": "cooperative-companion",
   "metadata": {
    "tags": []
   },
   "source": [
    "Newton's method\n",
    "---------------\n",
    "Let's combine everything and implement Newton's method.\n",
    "You can start, e.g., from the code of your `gradient_descent` method.\n",
    "\n",
    "Newton's method shall take a function for the gradient `grad` a function for\n",
    "the Hessian `hess`, a start point `x0`, a small non-negative regularization parameter `lambda_`\n",
    "(note the trailing underscore), a learning rate `eta` between 0 and 1, and\n",
    "the maximum  number of iterations.\n",
    "\n",
    "Hint `x.size`  gives the total number of elements in an array."
   ]
  },
  {
   "cell_type": "code",
   "execution_count": 119,
   "id": "compliant-pencil",
   "metadata": {
    "deletable": false,
    "nbgrader": {
     "cell_type": "code",
     "checksum": "cb0f13bc68eae0b28f11b5c7023d3627",
     "grade": false,
     "grade_id": "cell-574a9c4248f960f5",
     "locked": false,
     "schema_version": 3,
     "solution": true,
     "task": false
    }
   },
   "outputs": [],
   "source": [
    "def newton(grad, hess, x0, lambda_=0, eta=1, max_iter=20):\n",
    "    x = x0\n",
    "    k = 0\n",
    "    \n",
    "    while k<max_iter  and  np.any(abs(np.linalg.inv(hess(x))*(grad(x)))  >  1e-5):\n",
    "        x0  -=  np.linalg.inv(hess(x))@(grad(x))\n",
    "        x = x0\n",
    "        k += 1\n",
    "        \n",
    "    return x"
   ]
  },
  {
   "cell_type": "code",
   "execution_count": 120,
   "id": "junior-slovenia",
   "metadata": {},
   "outputs": [
    {
     "data": {
      "text/plain": [
       "array([0.75262664, 0.        ])"
      ]
     },
     "execution_count": 120,
     "metadata": {},
     "output_type": "execute_result"
    }
   ],
   "source": [
    "newton(J, H, np.array([0.5, 0.0]))"
   ]
  },
  {
   "cell_type": "code",
   "execution_count": 121,
   "id": "cooperative-beijing",
   "metadata": {
    "deletable": false,
    "editable": false,
    "nbgrader": {
     "cell_type": "code",
     "checksum": "63bd2f55a5ebbc39e5233743642078b8",
     "grade": true,
     "grade_id": "cell-ad5f11b7187b384f",
     "locked": true,
     "points": 2,
     "schema_version": 3,
     "solution": false,
     "task": false
    }
   },
   "outputs": [],
   "source": [
    "assert newton(J, H, np.array([0.0, 0.0])).shape == (2,)\n",
    "assert np.allclose(newton(J, H, np.array([0.0, 0.0]), max_iter=0), [0.0, 0.0], atol=1e-4)\n",
    "assert np.allclose(newton(J, H, np.array([0.8, -0.1])), [0.752619, 0.0], atol=1e-4)\n",
    "assert np.allclose(newton(J, H, np.array([0.4, 0.1])), [0.752619, 0.0], atol=1e-4)\n"
   ]
  },
  {
   "cell_type": "markdown",
   "id": "close-monkey",
   "metadata": {
    "deletable": false,
    "editable": false,
    "nbgrader": {
     "cell_type": "markdown",
     "checksum": "97697174030475dfb9a813acd3e6cfa0",
     "grade": false,
     "grade_id": "cell-ef31aa7638b4f9b4",
     "locked": true,
     "points": 1,
     "schema_version": 3,
     "solution": false,
     "task": true
    }
   },
   "source": [
    "Compare the results for Newton's method and Gradient Descent for the starting point $x = (-0.5, 0.05)$. (For gradient descent you probably need a large number of iterations.)\n",
    "\n",
    "Also investigate the result for the starting point $x = (0, 0)$."
   ]
  },
  {
   "cell_type": "code",
   "execution_count": 123,
   "id": "russian-complement",
   "metadata": {},
   "outputs": [
    {
     "data": {
      "text/plain": [
       "array([-6.50488048e-01, -2.22784414e-07])"
      ]
     },
     "execution_count": 123,
     "metadata": {},
     "output_type": "execute_result"
    }
   ],
   "source": [
    "newton(J, H, np.array([-0.5, 0.05]))"
   ]
  },
  {
   "cell_type": "code",
   "execution_count": 124,
   "id": "40766385-20ad-419e-8160-0e9f39eb6524",
   "metadata": {},
   "outputs": [
    {
     "data": {
      "text/plain": [
       "array([[-0.5       ,  0.05      ],\n",
       "       [-0.5295    ,  0.05495   ],\n",
       "       [-0.55537805,  0.05971109],\n",
       "       [-0.57714022,  0.06420112],\n",
       "       [-0.59472067,  0.06838158],\n",
       "       [-0.60841309,  0.07225557],\n",
       "       [-0.61873948,  0.07585715],\n",
       "       [-0.62631228,  0.07923756],\n",
       "       [-0.63172912,  0.08245316],\n",
       "       [-0.63551241,  0.08555735],\n",
       "       [-0.6380868 ,  0.08859648],\n",
       "       [-0.63978071,  0.09160861],\n",
       "       [-0.64083935,  0.09462395],\n",
       "       [-0.64144137,  0.09766597],\n",
       "       [-0.64171459,  0.10075277],\n",
       "       [-0.64174925,  0.10389832],\n",
       "       [-0.64160832,  0.10711348],\n",
       "       [-0.64133533,  0.11040681],\n",
       "       [-0.64096002,  0.11378523],\n",
       "       [-0.64050242,  0.11725446],\n",
       "       [-0.63997575,  0.12081937]])"
      ]
     },
     "execution_count": 124,
     "metadata": {},
     "output_type": "execute_result"
    }
   ],
   "source": [
    "gradient_descent(J, np.array([-0.5, 0.05]), 0.1, 20)"
   ]
  },
  {
   "cell_type": "code",
   "execution_count": 125,
   "id": "74ff424b-3998-4e18-b614-9a9e6a00636f",
   "metadata": {},
   "outputs": [
    {
     "data": {
      "text/plain": [
       "array([-0.10212766,  0.        ])"
      ]
     },
     "execution_count": 125,
     "metadata": {},
     "output_type": "execute_result"
    }
   ],
   "source": [
    "newton(J, H, np.array([-0.0, 0.0]))"
   ]
  },
  {
   "cell_type": "code",
   "execution_count": 130,
   "id": "b3a95d25-0b0f-4443-9007-40edb5a3c6e6",
   "metadata": {},
   "outputs": [
    {
     "name": "stdout",
     "output_type": "stream",
     "text": [
      "20 steps used\n"
     ]
    },
    {
     "data": {
      "text/plain": [
       "array([0.75114643, 0.        ])"
      ]
     },
     "execution_count": 130,
     "metadata": {},
     "output_type": "execute_result"
    }
   ],
   "source": [
    "gradient_descent(J, np.array([-0.0, 0.0]), 0.1, 20)"
   ]
  },
  {
   "cell_type": "code",
   "execution_count": 129,
   "id": "597a76bf-0839-4c00-95b0-45dc33f3cda8",
   "metadata": {},
   "outputs": [],
   "source": [
    "def gradient_descent(grad, x0, eta, max_iter):\n",
    "    x = x0\n",
    "    k = 0\n",
    "    \n",
    "    while k<max_iter  and  np.any(abs(eta*grad(x0))  >  1e-5):\n",
    "        x0  -=  eta * grad(x0)\n",
    "        k += 1\n",
    "        x = x0\n",
    "    print(k, \"steps used\")\n",
    "    return x"
   ]
  },
  {
   "cell_type": "markdown",
   "id": "focal-casting",
   "metadata": {
    "deletable": false,
    "editable": false,
    "nbgrader": {
     "cell_type": "markdown",
     "checksum": "964c57ddc77a6044b3576c72d034beda",
     "grade": false,
     "grade_id": "cell-6eb001aacba68f59",
     "locked": true,
     "schema_version": 3,
     "solution": false,
     "task": false
    }
   },
   "source": [
    "What happens in each approach and why?"
   ]
  },
  {
   "cell_type": "markdown",
   "id": "medical-matthew",
   "metadata": {
    "deletable": false,
    "nbgrader": {
     "cell_type": "markdown",
     "checksum": "bd2f8650fd9bfe850142b7401dd0f951",
     "grade": true,
     "grade_id": "cell-0d2ff07b1389ef52",
     "locked": false,
     "points": 1,
     "schema_version": 3,
     "solution": true,
     "task": false
    }
   },
   "source": [
    "YOUR ANSWER HERE"
   ]
  },
  {
   "cell_type": "code",
   "execution_count": null,
   "id": "683bdd5b",
   "metadata": {},
   "outputs": [],
   "source": []
  }
 ],
 "metadata": {
  "kernelspec": {
   "display_name": "Python 3 (ipykernel)",
   "language": "python",
   "name": "python3"
  },
  "language_info": {
   "codemirror_mode": {
    "name": "ipython",
    "version": 3
   },
   "file_extension": ".py",
   "mimetype": "text/x-python",
   "name": "python",
   "nbconvert_exporter": "python",
   "pygments_lexer": "ipython3",
   "version": "3.10.6"
  }
 },
 "nbformat": 4,
 "nbformat_minor": 5
}
