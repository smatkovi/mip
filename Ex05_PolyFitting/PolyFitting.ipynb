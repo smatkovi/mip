{
 "cells": [
  {
   "cell_type": "markdown",
   "id": "sound-career",
   "metadata": {
    "deletable": false,
    "editable": false,
    "nbgrader": {
     "cell_type": "markdown",
     "checksum": "82f2fc78919e0447e6e9c23ac2b619e9",
     "grade": false,
     "grade_id": "cell-54bcd50d39446903",
     "locked": true,
     "schema_version": 3,
     "solution": false,
     "task": false
    },
    "tags": []
   },
   "source": [
    "Fitting Polynomials\n",
    "===================\n",
    "\n",
    "In this exercise, we are going to explore the bias–variance tradeoff\n",
    "on a illustrative problem, polynomial fitting.\n",
    "\n",
    "We are now going to use the following model, which can be seen as linear model with enlarged feature space:\n",
    "\n",
    "$$ \n",
    "f(x; \\vec\\theta) = \\sum_{k=0}^{K-1} \\theta_k f_k(x) = \\theta_0 + \\theta_1 x + \\ldots \\theta_{K-1} x^{K-1},\n",
    "$$\n",
    "\n",
    "i.e., one has $f_k(x) = x^k$.  (Note that we are indexing slightly\n",
    "differently than in the lecture because numpy indices start at zero.)\n",
    "\n",
    "Write `f_k`, which implements $f_k(x)$, and also a function `fmodel`, which implements $f(x; \\vec\\theta)$ above"
   ]
  },
  {
   "cell_type": "code",
   "execution_count": 1,
   "id": "aging-premises",
   "metadata": {},
   "outputs": [
    {
     "name": "stderr",
     "output_type": "stream",
     "text": [
      "Matplotlib created a temporary config/cache directory at /tmp/matplotlib-3z6cczzb because the default path (/home/e01026902/.cache/matplotlib) is not a writable directory; it is highly recommended to set the MPLCONFIGDIR environment variable to a writable directory, in particular to speed up the import of Matplotlib and to better support multiprocessing.\n"
     ]
    }
   ],
   "source": [
    "import numpy as np\n",
    "import matplotlib.pyplot as pl"
   ]
  },
  {
   "cell_type": "code",
   "execution_count": 2,
   "id": "necessary-maple",
   "metadata": {
    "deletable": false,
    "nbgrader": {
     "cell_type": "code",
     "checksum": "82025b539d1153d3cb513e7a420b1009",
     "grade": false,
     "grade_id": "cell-99dfa0524a14b0fe",
     "locked": false,
     "schema_version": 3,
     "solution": true,
     "task": false
    }
   },
   "outputs": [],
   "source": [
    "def f_k(k, x):\n",
    "    return x**k\n",
    "    \n",
    "def fmodel(x, theta):\n",
    "    sum = 0\n",
    "    for k, t in enumerate(theta):\n",
    "        sum += t*f_k(k, x)\n",
    "    return sum"
   ]
  },
  {
   "cell_type": "code",
   "execution_count": 3,
   "id": "middle-reader",
   "metadata": {
    "deletable": false,
    "editable": false,
    "nbgrader": {
     "cell_type": "code",
     "checksum": "7bad35f089951e44b5203e8f5629c03e",
     "grade": true,
     "grade_id": "cell-29a5d6d1a42e7b4e",
     "locked": true,
     "points": 1,
     "schema_version": 3,
     "solution": false,
     "task": false
    }
   },
   "outputs": [],
   "source": [
    "np.testing.assert_allclose(f_k(0, 3.0), 1.0, atol=1e-6)\n",
    "np.testing.assert_allclose(f_k(1, 2.5), 2.5, atol=1e-6)\n",
    "np.testing.assert_allclose(f_k(2, 4.0), 16.0, atol=1e-6)\n",
    "\n",
    "np.testing.assert_allclose(fmodel(3.0, np.array([.4])), 0.4, atol=1e-6)\n",
    "np.testing.assert_allclose(fmodel(1.0, np.array([.7, 0.5])), 1.2, atol=1e-6)\n",
    "np.testing.assert_allclose(fmodel(1.0, np.array([.7, 0.5])), 1.2, atol=1e-6)\n"
   ]
  },
  {
   "cell_type": "markdown",
   "id": "accomplished-disaster",
   "metadata": {
    "deletable": false,
    "editable": false,
    "nbgrader": {
     "cell_type": "markdown",
     "checksum": "21c2b40ce46161ccdbb3ffaf4c3f4978",
     "grade": false,
     "grade_id": "cell-e70b5e7d96128bb0",
     "locked": true,
     "schema_version": 3,
     "solution": false,
     "task": false
    }
   },
   "source": [
    "Load and randomize data set\n",
    "-------------------------------------\n",
    "Instead of needing to randomly select the data by throwing dice,\n",
    "a simpler technique is to just randomize the observations.  Afterwards,\n",
    "we can simply select the first $n$ rows and be sure we are not biasing\n",
    "our calculations.\n",
    "\n",
    " 1. Use numpy's `loadtxt` function to again load a data matrix, where\n",
    "    each row corresponds to an observation with $x$ and $y$ value,\n",
    "    from the file `poly.txt`.\n",
    "  \n",
    " 2. Randomly permute the rows in the data matrix (Hint: look\n",
    "    through the methods for `random`)\n",
    " \n",
    " 3. Again split up the result into a `x` and `y` vector."
   ]
  },
  {
   "cell_type": "code",
   "execution_count": 4,
   "id": "novel-lease",
   "metadata": {},
   "outputs": [],
   "source": [
    "random = np.random.default_rng(777)"
   ]
  },
  {
   "cell_type": "code",
   "execution_count": 5,
   "id": "grand-contrary",
   "metadata": {
    "deletable": false,
    "nbgrader": {
     "cell_type": "code",
     "checksum": "a3bc711d0f315ad28d2d954c44d1c774",
     "grade": false,
     "grade_id": "cell-4f21642c224a9950",
     "locked": false,
     "schema_version": 3,
     "solution": true,
     "task": false
    }
   },
   "outputs": [],
   "source": [
    "data = np.loadtxt(\"poly.txt\")\n",
    "random.shuffle(data)\n",
    "x = data[:,0]\n",
    "y = data[:,1]"
   ]
  },
  {
   "cell_type": "code",
   "execution_count": 6,
   "id": "unavailable-clear",
   "metadata": {},
   "outputs": [
    {
     "name": "stdout",
     "output_type": "stream",
     "text": [
      "[ 0.3925519  0.7892026 -0.6184356  1.689792   1.859727 ]\n",
      "[-0.1610474   2.108433    1.086904    1.943973    0.00322987]\n"
     ]
    }
   ],
   "source": [
    "print(x[:5])\n",
    "print(y[:5])"
   ]
  },
  {
   "cell_type": "code",
   "execution_count": 7,
   "id": "controlled-genealogy",
   "metadata": {},
   "outputs": [
    {
     "data": {
      "text/plain": [
       "\u001b[0;31mType:\u001b[0m        Generator\n",
       "\u001b[0;31mString form:\u001b[0m Generator(PCG64)\n",
       "\u001b[0;31mFile:\u001b[0m        /opt/conda/lib/python3.10/site-packages/numpy/random/_generator.cpython-310-x86_64-linux-gnu.so\n",
       "\u001b[0;31mDocstring:\u001b[0m  \n",
       "Generator(bit_generator)\n",
       "\n",
       "Container for the BitGenerators.\n",
       "\n",
       "``Generator`` exposes a number of methods for generating random\n",
       "numbers drawn from a variety of probability distributions. In addition to\n",
       "the distribution-specific arguments, each method takes a keyword argument\n",
       "`size` that defaults to ``None``. If `size` is ``None``, then a single\n",
       "value is generated and returned. If `size` is an integer, then a 1-D\n",
       "array filled with generated values is returned. If `size` is a tuple,\n",
       "then an array with that shape is filled and returned.\n",
       "\n",
       "The function :func:`numpy.random.default_rng` will instantiate\n",
       "a `Generator` with numpy's default `BitGenerator`.\n",
       "\n",
       "**No Compatibility Guarantee**\n",
       "\n",
       "``Generator`` does not provide a version compatibility guarantee. In\n",
       "particular, as better algorithms evolve the bit stream may change.\n",
       "\n",
       "Parameters\n",
       "----------\n",
       "bit_generator : BitGenerator\n",
       "    BitGenerator to use as the core generator.\n",
       "\n",
       "Notes\n",
       "-----\n",
       "The Python stdlib module `random` contains pseudo-random number generator\n",
       "with a number of methods that are similar to the ones available in\n",
       "``Generator``. It uses Mersenne Twister, and this bit generator can\n",
       "be accessed using ``MT19937``. ``Generator``, besides being\n",
       "NumPy-aware, has the advantage that it provides a much larger number\n",
       "of probability distributions to choose from.\n",
       "\n",
       "Examples\n",
       "--------\n",
       ">>> from numpy.random import Generator, PCG64\n",
       ">>> rng = Generator(PCG64())\n",
       ">>> rng.standard_normal()\n",
       "-0.203  # random\n",
       "\n",
       "See Also\n",
       "--------\n",
       "default_rng : Recommended constructor for `Generator`."
      ]
     },
     "metadata": {},
     "output_type": "display_data"
    }
   ],
   "source": [
    "random?"
   ]
  },
  {
   "cell_type": "code",
   "execution_count": 8,
   "id": "governing-clerk",
   "metadata": {
    "deletable": false,
    "editable": false,
    "nbgrader": {
     "cell_type": "code",
     "checksum": "48b33f4d6abf808def0a02be14e0b806",
     "grade": true,
     "grade_id": "cell-b34e636ead172827",
     "locked": true,
     "points": 1,
     "schema_version": 3,
     "solution": false,
     "task": false
    }
   },
   "outputs": [],
   "source": [
    "assert (x, y) is not None\n",
    "\n",
    "# Check if permutation did not mess up stuff\n",
    "_sorted = np.sort(np.rec.fromarrays([x,y], names='x,y'))\n",
    "np.testing.assert_allclose(_sorted.x, np.loadtxt('poly.txt')[:,0], atol=1e-6)\n",
    "np.testing.assert_allclose(_sorted.y, np.loadtxt('poly.txt')[:,1], atol=1e-6)\n",
    "\n",
    "# Check for randomness...\n",
    "sortedx = (x[1:] > x[:-1]).sum()\n",
    "assert sortedx > .3 * x.size and sortedx < .7 * x.size"
   ]
  },
  {
   "cell_type": "markdown",
   "id": "collectible-legend",
   "metadata": {
    "deletable": false,
    "editable": false,
    "nbgrader": {
     "cell_type": "markdown",
     "checksum": "8d639c28d0e3e47d1e4fbac6aaec7bf1",
     "grade": false,
     "grade_id": "cell-29e5d44f4764aa86",
     "locked": true,
     "schema_version": 3,
     "solution": false,
     "task": false
    }
   },
   "source": [
    "Let's check if we did a good job on randomizing the data.\n",
    "There is a cute way of doing this:\n",
    "\n",
    "We again do a scatter plot (`pl.scatter`), where I plot `y`\n",
    "over `x`.  These plots allow you to use **color** to attach\n",
    "information to each data point.\n",
    "We want color to represent the position of the observation\n",
    "within the array, so we simply pass a vector with indices.\n",
    "If you like, you can play around with the [`cmap` argument].\n",
    "\n",
    "If the resulting plot looks a little bit like an impressionist\n",
    "painting, which the colors nicely scattered, then you did a\n",
    "good job randomizing.  If you can spot a visible gradient, then\n",
    "it means that position and index are correlated, and something\n",
    "went wrong in the randomization.\n",
    "\n",
    "[`cmap` argument]: https://matplotlib.org/stable/tutorials/colors/colormaps.html"
   ]
  },
  {
   "cell_type": "code",
   "execution_count": 9,
   "id": "polar-match",
   "metadata": {},
   "outputs": [
    {
     "data": {
      "text/plain": [
       "<matplotlib.colorbar.Colorbar at 0x7f01b010a980>"
      ]
     },
     "execution_count": 9,
     "metadata": {},
     "output_type": "execute_result"
    },
    {
     "data": {
      "image/png": "[encoded data removed]",
      "text/plain": [
       "<Figure size 640x480 with 2 Axes>"
      ]
     },
     "metadata": {},
     "output_type": "display_data"
    }
   ],
   "source": [
    "pl.scatter(x, y, c=np.arange(1000), s=5)\n",
    "pl.xlabel('$x_n$')\n",
    "pl.ylabel('$y_n$')\n",
    "pl.title('data set')\n",
    "pl.colorbar(label='$n$')"
   ]
  },
  {
   "cell_type": "code",
   "execution_count": null,
   "id": "positive-documentation",
   "metadata": {},
   "outputs": [],
   "source": []
  },
  {
   "cell_type": "markdown",
   "id": "charged-physiology",
   "metadata": {
    "deletable": false,
    "editable": false,
    "nbgrader": {
     "cell_type": "markdown",
     "checksum": "7318c34a814641e457eb601380aa048a",
     "grade": false,
     "grade_id": "cell-f342077a42b4417f",
     "locked": true,
     "schema_version": 3,
     "solution": false,
     "task": false
    },
    "tags": []
   },
   "source": [
    "Linear model with enlarged feature space\n",
    "------------------------------\n",
    "Let's fix the maximum polynomial order at `Kmax=20`.\n",
    "\n",
    "Now you should construct an augmented \"design matrix\" `Xtilde` with `N=1000`\n",
    "rows, corresponding to the observations, and `Kmax=20` columns with the\n",
    "element $X_{kn} = \\tilde x_{n,k} = f_k(x_n)$, i.e., the $k$-th feature of the\n",
    "$n$-th observation."
   ]
  },
  {
   "cell_type": "code",
   "execution_count": 13,
   "id": "elementary-coordinator",
   "metadata": {
    "deletable": false,
    "nbgrader": {
     "cell_type": "code",
     "checksum": "b7549789e2624f9b45b71c32065872d0",
     "grade": false,
     "grade_id": "cell-fa5049dd3dcf51a0",
     "locked": false,
     "schema_version": 3,
     "solution": true,
     "task": false
    }
   },
   "outputs": [],
   "source": [
    "Xtilde = np.zeros( (1000, 20) )\n",
    "for i in range(0, 1000):\n",
    "    for j in range(0, 20):\n",
    "        Xtilde[i, j] = f_k(j, x[i])"
   ]
  },
  {
   "cell_type": "code",
   "execution_count": 14,
   "id": "great-offer",
   "metadata": {},
   "outputs": [
    {
     "data": {
      "text/plain": [
       "array([[ 1.        ,  0.3925519 ,  0.15409699,  0.06049107],\n",
       "       [ 1.        ,  0.7892026 ,  0.62284074,  0.49154753],\n",
       "       [ 1.        , -0.6184356 ,  0.38246259, -0.23652848],\n",
       "       [ 1.        ,  1.689792  ,  2.855397  ,  4.82502701]])"
      ]
     },
     "execution_count": 14,
     "metadata": {},
     "output_type": "execute_result"
    }
   ],
   "source": [
    "Xtilde[:4, :4]"
   ]
  },
  {
   "cell_type": "code",
   "execution_count": null,
   "id": "buried-harbor",
   "metadata": {},
   "outputs": [],
   "source": []
  },
  {
   "cell_type": "code",
   "execution_count": 15,
   "id": "relative-planning",
   "metadata": {
    "deletable": false,
    "editable": false,
    "nbgrader": {
     "cell_type": "code",
     "checksum": "bc96d9ed596e6efde21899a078827170",
     "grade": true,
     "grade_id": "cell-be2ab51fbc6fe851",
     "locked": true,
     "points": 1,
     "schema_version": 3,
     "solution": false,
     "task": false
    }
   },
   "outputs": [],
   "source": [
    "assert (Xtilde,) is not None\n",
    "assert Xtilde.shape == (1000, 20)\n",
    "\n",
    "_rowsums = [\n",
    "    1.00000000e+03,  2.74192173e+01,  1.26907921e+03,  6.80383109e+01,\n",
    "    3.03906894e+03,  1.55539066e+02,  8.77137073e+03,  3.07412343e+02,\n",
    "    2.76456589e+04,  3.21997393e+02,  9.16437544e+04, -1.40425556e+03,\n",
    "    3.13851105e+05, -1.36666460e+04,  1.09962081e+06, -7.87415634e+04,\n",
    "    3.91828369e+06, -3.86712415e+05,  1.41452574e+07, -1.75920784e+06]\n",
    "np.testing.assert_allclose(Xtilde[:,:].sum(0), _rowsums, atol=1e-3)"
   ]
  },
  {
   "cell_type": "markdown",
   "id": "stunning-prompt",
   "metadata": {
    "deletable": false,
    "editable": false,
    "nbgrader": {
     "cell_type": "markdown",
     "checksum": "d78b3e574724fa29a1d96dc95f07c5fe",
     "grade": false,
     "grade_id": "cell-a9af918d2fe8eace",
     "locked": true,
     "schema_version": 3,
     "solution": false,
     "task": false
    }
   },
   "source": [
    "Write the corresponding model function `fmodel_lin` which maps elements `xtilde` ($\\tilde x_n$)\n",
    "to the predicted $y$ (note that this is now a linear model!), given the\n",
    "model parameters `theta`:\n",
    "$$\n",
    "    \\hat y_n = f_\\mathrm{lin}(\\tilde x_n; \\vec\\theta)\n",
    "$$\n",
    "\n",
    "Also implement the cost function, and include a Ridge regularization term,\n",
    "weighted with `lambda_`:\n",
    "$$\n",
    "    \\operatorname{cost}(\\tilde X, \\vec y; \\vec\\theta, \\lambda) \n",
    "    = \\frac 1N \\sum_{n=1}^N | y_n - f_\\mathrm{lin}(\\tilde x_n; \\vec\\theta) |^2 + \\mbox{(Ridge regularization term)}\n",
    "$$\n",
    "You should not use hardcoded values for $N$ or $K$ since we will change them later - infer them from the size of the arguments instead.\n",
    "\n",
    "**Also note** the additional factor $1/N$ in the first term compared to the lecture (the regularization term is not scaled)."
   ]
  },
  {
   "cell_type": "code",
   "execution_count": 83,
   "id": "vietnamese-joyce",
   "metadata": {
    "deletable": false,
    "nbgrader": {
     "cell_type": "code",
     "checksum": "c9d992fd2d62ff8f72a9288350f6aa80",
     "grade": false,
     "grade_id": "cell-96a9780761ec8542",
     "locked": false,
     "schema_version": 3,
     "solution": true,
     "task": false
    }
   },
   "outputs": [],
   "source": [
    "def fmodel_lin(xtilde, theta):\n",
    "    # Here is a check for your convenience\n",
    "    if np.ndim(xtilde) != 1 or np.shape(xtilde) != np.shape(theta):\n",
    "        raise ValueError(\"xtilde and theta must be vectors of equal size\")\n",
    "\n",
    "    return np.sum(xtilde*theta)\n",
    "    \n",
    "def cost(Xtilde, y, theta, lambda_=0):\n",
    "    sum = 0\n",
    "    for i, (ys, xt) in enumerate(zip(y, Xtilde)):\n",
    "        #print(\"ys\", ys, \"xt\", xt)\n",
    "        sum += (ys - fmodel_lin(xt, theta))**2 + (lambda_**2) * np.sum(theta**2)\n",
    "    sum /= i+1\n",
    "    return sum"
   ]
  },
  {
   "cell_type": "code",
   "execution_count": 105,
   "id": "special-justice",
   "metadata": {},
   "outputs": [
    {
     "data": {
      "text/plain": [
       "20"
      ]
     },
     "execution_count": 105,
     "metadata": {},
     "output_type": "execute_result"
    }
   ],
   "source": [
    "np.dot(Xtilde.T, Xtilde).shape[0]"
   ]
  },
  {
   "cell_type": "code",
   "execution_count": 85,
   "id": "wireless-treasure",
   "metadata": {
    "deletable": false,
    "editable": false,
    "nbgrader": {
     "cell_type": "code",
     "checksum": "0ed7fd044525c46f27cd307a3464ce75",
     "grade": true,
     "grade_id": "cell-68408d26d2f8be09",
     "locked": true,
     "points": 2,
     "schema_version": 3,
     "solution": false,
     "task": false
    }
   },
   "outputs": [],
   "source": [
    "_theta_dummy = np.exp(-np.arange(20))\n",
    "np.testing.assert_allclose(fmodel_lin(np.ones(20), _theta_dummy), _theta_dummy.sum())\n",
    "\n",
    "np.testing.assert_allclose(cost(Xtilde, y, _theta_dummy), 8.0888421161, atol=1e-6)\n",
    "np.testing.assert_allclose(cost(Xtilde[:,:10], y, _theta_dummy[:10]), 8.0573235038, atol=1e-6)\n",
    "\n",
    "np.testing.assert_allclose(cost(Xtilde, y, _theta_dummy, 1.0), 9.24536, atol=1e-6)\n",
    "np.testing.assert_allclose(cost(Xtilde, y, _theta_dummy, 10.0), 123.740606, atol=1e-6)"
   ]
  },
  {
   "cell_type": "code",
   "execution_count": 86,
   "id": "efficient-probability",
   "metadata": {},
   "outputs": [
    {
     "data": {
      "text/plain": [
       "8.10040729253128"
      ]
     },
     "execution_count": 86,
     "metadata": {},
     "output_type": "execute_result"
    }
   ],
   "source": [
    "cost(Xtilde, y, _theta_dummy, 0.1)"
   ]
  },
  {
   "cell_type": "markdown",
   "id": "professional-jones",
   "metadata": {
    "deletable": false,
    "editable": false,
    "nbgrader": {
     "cell_type": "markdown",
     "checksum": "b0b6e59e15c0887a03033aab01187479",
     "grade": false,
     "grade_id": "cell-2a33bd865a2fd7cf",
     "locked": true,
     "schema_version": 3,
     "solution": false,
     "task": false
    }
   },
   "source": [
    "We need one final function: one which minimizes the `cost` function for given $\\tilde X$, $y$\n",
    "and $\\lambda$ and returns the optimal parameters $\\theta^*$:\n",
    "$$\n",
    "    \\theta^* = \\arg\\min_\\theta \\operatorname{cost}(\\tilde X, \\vec y; \\vec\\theta, \\lambda)\n",
    "$$\n",
    "Use the regularized normal equations to solve.\n",
    "\n",
    "**Careful**: the cost function above contains the scaling factor $1/N$ with respect to the lecture. You can include this in the equations presented in the lecture by instead scaling your $\\lambda$ by a factor $\\sqrt N$ in the solution formulas of the lecture, since for the minimization only the balance between regularization term and cost term matters."
   ]
  },
  {
   "cell_type": "code",
   "execution_count": 110,
   "id": "reduced-apache",
   "metadata": {
    "deletable": false,
    "nbgrader": {
     "cell_type": "code",
     "checksum": "208026fbd4d7d0d7dffba2002be3864c",
     "grade": false,
     "grade_id": "cell-4ba68adb60177857",
     "locked": false,
     "schema_version": 3,
     "solution": true,
     "task": false
    }
   },
   "outputs": [],
   "source": [
    "def ridge_regression(Xtilde, y, lambda_=0):\n",
    "    return np.dot(np.linalg.inv(np.dot(Xtilde.T, Xtilde) + y.size*lambda_**2 * np.identity(np.dot(Xtilde.T, Xtilde).shape[0])), np.dot(Xtilde.T, y))"
   ]
  },
  {
   "cell_type": "code",
   "execution_count": 111,
   "id": "initial-secretariat",
   "metadata": {},
   "outputs": [
    {
     "data": {
      "text/plain": [
       "array([ 4.30579427e-02, -8.42996043e-01,  3.87042032e+00, -6.90870363e+00,\n",
       "        1.56538871e+00,  2.71777536e+01, -3.81034735e+00, -5.12583771e+01,\n",
       "        1.81329034e+00,  5.50208734e+01,  3.95125868e-01, -3.54874210e+01,\n",
       "       -7.27665395e-01,  1.39295803e+01,  2.91051963e-01, -3.24941676e+00,\n",
       "       -5.12652217e-02,  4.13575906e-01,  3.45884730e-03, -2.21050259e-02])"
      ]
     },
     "execution_count": 111,
     "metadata": {},
     "output_type": "execute_result"
    }
   ],
   "source": [
    "ridge_regression(Xtilde, y)"
   ]
  },
  {
   "cell_type": "code",
   "execution_count": 112,
   "id": "canadian-gather",
   "metadata": {
    "deletable": false,
    "editable": false,
    "nbgrader": {
     "cell_type": "code",
     "checksum": "15450567b2c46703a0a6b5ef300c5527",
     "grade": true,
     "grade_id": "cell-e6f9d05254627411",
     "locked": true,
     "points": 1,
     "schema_version": 3,
     "solution": false,
     "task": false
    }
   },
   "outputs": [],
   "source": [
    "assert ridge_regression(Xtilde, y).shape == (20,)\n",
    "\n",
    "# Use reduced set here because of numerical instability otherwise\n",
    "np.testing.assert_allclose(ridge_regression(Xtilde[:,:3], y, 0.0), \n",
    "                           [ 1.47642395, -1.16072359,  0.69449246], atol=1e-5)\n",
    "np.testing.assert_allclose(ridge_regression(Xtilde[:,:3], y, 0.01),\n",
    "                           [ 1.4761718 , -1.160631  ,  0.69457283], atol=1e-5)\n",
    "np.testing.assert_allclose(ridge_regression(Xtilde[:,:3], y, 0.1), \n",
    "                           [ 1.45179605, -1.15153417,  0.70226027], atol=1e-5)"
   ]
  },
  {
   "cell_type": "code",
   "execution_count": null,
   "id": "996a73b7",
   "metadata": {},
   "outputs": [],
   "source": []
  },
  {
   "cell_type": "markdown",
   "id": "unsigned-alexandria",
   "metadata": {
    "deletable": false,
    "editable": false,
    "nbgrader": {
     "cell_type": "markdown",
     "checksum": "aadbfaad829bf0fda0bca98c69339794",
     "grade": false,
     "grade_id": "cell-315b5a2693305317",
     "locked": true,
     "schema_version": 3,
     "solution": false,
     "task": false
    }
   },
   "source": [
    "Polynomial fit\n",
    "--------------------\n",
    "\n",
    "With all those functions we are finally ready to tackle polynomial fitting.\n",
    "\n",
    "Again split your data, `Xtilde` and `y`, into two sets, where you should put half\n",
    "into the training set (`Xtilde_train`, `y_train`) and half into the validation set\n",
    "(`Xtilde_test`, `y_test`).  In total, there should be `N` observations, where\n",
    "`N` can be smaller than the total number of points we have in our set.\n",
    "\n",
    "Since we have previously randomized the data, this simplifies our job: say, N=100,\n",
    "then we simply put the first 50 observations in the training set and the next 50\n",
    "observations into the validation set.\n",
    "\n",
    "We want to study how the fit changes as we increase or reduce the polynomial order.\n",
    "To do so, truncate the design matrices to the first `K` features (thereby enforcing\n",
    "fitting with a polynomial of order `K-1`).\n",
    "\n",
    "**Note**: numpy may get confused if you use floating point numbers as indices. You\n",
    "can pass a number through the `int()` function to truncate the fractional part."
   ]
  },
  {
   "cell_type": "code",
   "execution_count": null,
   "id": "advance-conditioning",
   "metadata": {},
   "outputs": [],
   "source": [
    "K = 10\n",
    "N = 100"
   ]
  },
  {
   "cell_type": "code",
   "execution_count": null,
   "id": "piano-click",
   "metadata": {
    "deletable": false,
    "nbgrader": {
     "cell_type": "code",
     "checksum": "4eca65d27803b9d87886aefea4820538",
     "grade": false,
     "grade_id": "cell-839a176e820cd757",
     "locked": false,
     "schema_version": 3,
     "solution": true,
     "task": false
    }
   },
   "outputs": [],
   "source": [
    "# Fill Xtilde_train, y_train, Xtilde_test, y_test here\n",
    "# YOUR CODE HERE\n",
    "raise NotImplementedError()"
   ]
  },
  {
   "cell_type": "code",
   "execution_count": null,
   "id": "silent-george",
   "metadata": {},
   "outputs": [],
   "source": [
    "y_test"
   ]
  },
  {
   "cell_type": "code",
   "execution_count": null,
   "id": "annual-confidence",
   "metadata": {},
   "outputs": [],
   "source": []
  },
  {
   "cell_type": "code",
   "execution_count": null,
   "id": "fundamental-apparatus",
   "metadata": {
    "deletable": false,
    "editable": false,
    "nbgrader": {
     "cell_type": "code",
     "checksum": "13f6dd3f2e3ba158485722542431dfd5",
     "grade": true,
     "grade_id": "cell-5c5e5299c4cc4287",
     "locked": true,
     "points": 1,
     "schema_version": 3,
     "solution": false,
     "task": false
    }
   },
   "outputs": [],
   "source": [
    "assert (Xtilde_train, Xtilde_test, y_train, y_test) is not None\n",
    "assert Xtilde_train.shape == (N//2, K)\n",
    "assert Xtilde_test.shape == (N//2, K)\n",
    "assert y_train.shape == (N//2,)\n",
    "assert y_test.shape == (N//2,)"
   ]
  },
  {
   "cell_type": "markdown",
   "id": "fewer-republican",
   "metadata": {},
   "source": [
    "Perform Ridge regression on the training set for `lambda_=0` for now, and plot the fitted\n",
    "curve as well as the points in the validation set (see previous assignment).\n",
    "\n",
    "Hint: to plot the $x$ values, you can observe that they are still present in one of the\n",
    "columns of `Xtilde`.\n",
    "\n",
    "Don't forget labels and a legend!"
   ]
  },
  {
   "cell_type": "code",
   "execution_count": null,
   "id": "lucky-archive",
   "metadata": {},
   "outputs": [],
   "source": [
    "lambda_ = 0"
   ]
  },
  {
   "cell_type": "code",
   "execution_count": null,
   "id": "prompt-medicaid",
   "metadata": {
    "deletable": false,
    "nbgrader": {
     "cell_type": "code",
     "checksum": "1c928b08425f3e545874b9098862e986",
     "grade": true,
     "grade_id": "cell-6cf95d4a3b3e0f5b",
     "locked": false,
     "points": 2,
     "schema_version": 3,
     "solution": true,
     "task": false
    }
   },
   "outputs": [],
   "source": [
    "# YOUR CODE HERE\n",
    "raise NotImplementedError()"
   ]
  },
  {
   "cell_type": "markdown",
   "id": "happy-louisiana",
   "metadata": {},
   "source": [
    "Also compute the in error and out error and print it"
   ]
  },
  {
   "cell_type": "code",
   "execution_count": null,
   "id": "sublime-fitting",
   "metadata": {
    "deletable": false,
    "nbgrader": {
     "cell_type": "code",
     "checksum": "cd852c591e8c4992325b98312f81efa4",
     "grade": true,
     "grade_id": "cell-375e820888cf0db0",
     "locked": false,
     "points": 1,
     "schema_version": 3,
     "solution": true,
     "task": false
    }
   },
   "outputs": [],
   "source": [
    "# YOUR CODE HERE\n",
    "raise NotImplementedError()\n",
    "\n",
    "print(\"    in-sample error: %.5g\" % E_in)\n",
    "print(\"out-of-sample error: %.5g\" % E_out)"
   ]
  },
  {
   "cell_type": "markdown",
   "id": "brief-norwegian",
   "metadata": {
    "deletable": false,
    "editable": false,
    "nbgrader": {
     "cell_type": "markdown",
     "checksum": "ec38734f3d57d4b2ba0ba41a282bed1c",
     "grade": false,
     "grade_id": "cell-7207ff95fbddbcca",
     "locked": true,
     "schema_version": 3,
     "solution": false,
     "task": false
    }
   },
   "source": [
    "Execute the cells from \"Polynomial fit\" downwards again while varying\n",
    "parameters:\n",
    "\n",
    " (1) while fixing `N=100`, vary the polynomial order `K`\n",
    " \n",
    " (2) while fixing `K=20`, vary the number of data points\n",
    " \n",
    " (3) take a case high `K` and low `N` and vary `lambda_`\n",
    " \n",
    "What do you observe for in- and out-error in those cases, and why?"
   ]
  },
  {
   "cell_type": "markdown",
   "id": "blessed-compromise",
   "metadata": {
    "deletable": false,
    "nbgrader": {
     "cell_type": "markdown",
     "checksum": "8cd3930e6701286ec78fa9fe5cbae9b6",
     "grade": true,
     "grade_id": "cell-4df29c3c84a7fd34",
     "locked": false,
     "points": 2,
     "schema_version": 3,
     "solution": true,
     "task": false
    }
   },
   "source": [
    "YOUR ANSWER HERE"
   ]
  },
  {
   "cell_type": "code",
   "execution_count": null,
   "id": "extra-announcement",
   "metadata": {},
   "outputs": [],
   "source": []
  },
  {
   "cell_type": "markdown",
   "id": "realistic-trail",
   "metadata": {},
   "source": [
    "Analyze behaviour of Ein and Eout\n",
    "--------------------------------------\n",
    "\n",
    "Now pack the code you wrote above into a single function, which takes `Xtilde` and `y`\n",
    "as well as `K`, `N`, and `lambda_` as inputs and returns the a\n",
    "list of two elements: `E_in` and `E_out`."
   ]
  },
  {
   "cell_type": "code",
   "execution_count": null,
   "id": "polish-fisher",
   "metadata": {
    "deletable": false,
    "nbgrader": {
     "cell_type": "code",
     "checksum": "38a628ee1bba88fc1be9df93d061a63a",
     "grade": false,
     "grade_id": "cell-efdccd6007061df8",
     "locked": false,
     "schema_version": 3,
     "solution": true,
     "task": false
    }
   },
   "outputs": [],
   "source": [
    "def performance(Xtilde, y, K, N, lambda_):\n",
    "    # YOUR CODE HERE\n",
    "    raise NotImplementedError()"
   ]
  },
  {
   "cell_type": "code",
   "execution_count": null,
   "id": "alleged-nancy",
   "metadata": {},
   "outputs": [],
   "source": [
    "performance(Xtilde, y, 10, 100, 0.0)"
   ]
  },
  {
   "cell_type": "code",
   "execution_count": null,
   "id": "precise-ceramic",
   "metadata": {},
   "outputs": [],
   "source": []
  },
  {
   "cell_type": "code",
   "execution_count": null,
   "id": "norwegian-major",
   "metadata": {
    "deletable": false,
    "editable": false,
    "nbgrader": {
     "cell_type": "code",
     "checksum": "b3b04058e710672c8343261239ea220f",
     "grade": true,
     "grade_id": "cell-ae74e903b53a8846",
     "locked": true,
     "points": 1,
     "schema_version": 3,
     "solution": false,
     "task": false
    }
   },
   "outputs": [],
   "source": [
    "assert len(performance(Xtilde, y, 10, 100, 0.1)) == 2\n",
    "\n",
    "np.testing.assert_allclose(\n",
    "    performance(Xtilde, y, 10, 1000, 0.1), [1.129271, 1.218699], rtol=2e-1)"
   ]
  },
  {
   "cell_type": "code",
   "execution_count": null,
   "id": "amber-english",
   "metadata": {},
   "outputs": [],
   "source": []
  },
  {
   "cell_type": "markdown",
   "id": "approximate-publisher",
   "metadata": {
    "deletable": false,
    "editable": false,
    "nbgrader": {
     "cell_type": "markdown",
     "checksum": "117658da83503820a93ed8231e03a886",
     "grade": false,
     "grade_id": "cell-f507bb98414c5a2f",
     "locked": true,
     "schema_version": 3,
     "solution": false,
     "task": false
    }
   },
   "source": [
    "I will now plot the fitting peformance over the number of features\n",
    "and the number of observations, respectively.\n",
    "\n",
    "Explain these graphs below"
   ]
  },
  {
   "cell_type": "code",
   "execution_count": null,
   "id": "yellow-antique",
   "metadata": {},
   "outputs": [],
   "source": [
    "k = np.arange(1,20)\n",
    "E_in, E_out = np.transpose(\n",
    "    [performance(Xtilde, y, ki, 100, 0.0) for ki in k])\n",
    "\n",
    "pl.plot(k, E_in, '-+b', label=r'$E_\\mathrm{in}$')\n",
    "pl.plot(k, E_out, '-xr', label=r'$E_\\mathrm{out}$')\n",
    "pl.title('errors vs number of features')\n",
    "pl.xlabel('$k$')\n",
    "pl.ylabel('$E$')\n",
    "pl.yscale('log')\n",
    "pl.legend()"
   ]
  },
  {
   "cell_type": "code",
   "execution_count": null,
   "id": "floral-bronze",
   "metadata": {},
   "outputs": [],
   "source": [
    "n = np.arange(30,200)\n",
    "E_in, E_out = np.transpose(\n",
    "    [performance(Xtilde, y, 10, ni, 0.0) for ni in n])\n",
    "\n",
    "pl.plot(n, E_in, '-b', label=r'$E_\\mathrm{in}$')\n",
    "pl.plot(n, E_out, '-r', label=r'$E_\\mathrm{out}$')\n",
    "pl.title('errors vs number of observations')\n",
    "pl.xlabel('$N$')\n",
    "pl.ylabel('$E$')\n",
    "pl.yscale('log')\n",
    "pl.legend()"
   ]
  },
  {
   "cell_type": "markdown",
   "id": "armed-greece",
   "metadata": {
    "deletable": false,
    "nbgrader": {
     "cell_type": "markdown",
     "checksum": "f955de97921aeb0b5b3f7bd93d07778d",
     "grade": true,
     "grade_id": "cell-32da972b83d4a77d",
     "locked": false,
     "points": 2,
     "schema_version": 3,
     "solution": true,
     "task": false
    },
    "tags": []
   },
   "source": [
    "YOUR ANSWER HERE"
   ]
  },
  {
   "cell_type": "code",
   "execution_count": null,
   "id": "4e57afb5",
   "metadata": {},
   "outputs": [],
   "source": []
  },
  {
   "cell_type": "code",
   "execution_count": null,
   "id": "e89f1c79",
   "metadata": {},
   "outputs": [],
   "source": []
  }
 ],
 "metadata": {
  "kernelspec": {
   "display_name": "Python 3 (ipykernel)",
   "language": "python",
   "name": "python3"
  },
  "language_info": {
   "codemirror_mode": {
    "name": "ipython",
    "version": 3
   },
   "file_extension": ".py",
   "mimetype": "text/x-python",
   "name": "python",
   "nbconvert_exporter": "python",
   "pygments_lexer": "ipython3",
   "version": "3.10.9"
  }
 },
 "nbformat": 4,
 "nbformat_minor": 5
}
